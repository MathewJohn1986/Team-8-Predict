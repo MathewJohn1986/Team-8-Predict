{
 "cells": [
  {
   "cell_type": "markdown",
   "metadata": {},
   "source": [
    " #                             Kaggle Competition: EDSA Apple Prices Challenge"
   ]
  },
  {
   "cell_type": "markdown",
   "metadata": {},
   "source": [
    "In this notebook we will focus on:\n",
    " - Data cleaning an fromatting (confirmatory data analysis)\n",
    " - Evaluate the best model on the testing set"
   ]
  },
  {
   "cell_type": "markdown",
   "metadata": {},
   "source": [
    "**Getting started**"
   ]
  },
  {
   "cell_type": "code",
   "execution_count": 5,
   "metadata": {},
   "outputs": [],
   "source": [
    "#import libraries\n",
    "%matplotlib notebook\n",
    "import numpy as np\n",
    "import pandas as pd\n",
    "import matplotlib.pyplot as plt\n",
    "import seaborn as sns\n",
    "from mpl_toolkits.mplot3d import Axes3D\n",
    "from xgboost import XGBRegressor\n",
    "from sklearn.linear_model import LinearRegression\n",
    "from sklearn.neighbors import KNeighborsClassifier\n",
    "from sklearn.tree import DecisionTreeClassifier\n",
    "from sklearn.svm import LinearSVC\n",
    "from sklearn.preprocessing import LabelEncoder\n",
    "from sklearn.ensemble import RandomForestClassifier\n",
    "from sklearn.tree import DecisionTreeRegressor\n",
    "from sklearn.linear_model import Ridge\n",
    "from sklearn.linear_model import Lasso\n",
    "#import pandas_profiling as pp\n",
    "import pickle\n",
    "from scipy.stats import norm\n",
    "from scipy.stats import zscore\n",
    "from scipy import stats\n",
    "from sklearn.metrics import r2_score, mean_squared_error\n",
    "from sklearn.model_selection import train_test_split\n",
    "from sklearn.model_selection import cross_val_score\n",
    "from sklearn.preprocessing import StandardScaler\n",
    "from sklearn.linear_model import Ridge, RidgeCV, ElasticNet, LassoCV, LassoLarsCV\n",
    "from scipy import stats\n",
    "from sklearn.pipeline import Pipeline\n",
    "import warnings\n",
    "warnings.filterwarnings('ignore')\n",
    "sns.set_style(\"whitegrid\")\n",
    "%matplotlib inline"
   ]
  },
  {
   "cell_type": "code",
   "execution_count": null,
   "metadata": {},
   "outputs": [],
   "source": [
    "#pip install pandas_pro"
   ]
  },
  {
   "cell_type": "markdown",
   "metadata": {},
   "source": [
    "Now we will load the train data set of the EDSA Apple Prices Challenge"
   ]
  },
  {
   "cell_type": "code",
   "execution_count": 6,
   "metadata": {},
   "outputs": [],
   "source": [
    "# load train set\n",
    "df_train = pd.read_csv(\"https://raw.githubusercontent.com/MathewJohn1986/Team-8-Predict/main/df-train_set.csv\")\n",
    "df_test = pd.read_csv('https://raw.githubusercontent.com/MathewJohn1986/Team-8-Predict/main/df-test_set.csv')"
   ]
  },
  {
   "cell_type": "code",
   "execution_count": 4,
   "metadata": {},
   "outputs": [],
   "source": [
    "# load train set\n",
    "#df_train= pd.read_csv(\"https://raw.githubusercontent.com/MathewJohn1986/Team-8-Predict/main/df-train_set.csv\")"
   ]
  },
  {
   "cell_type": "code",
   "execution_count": 5,
   "metadata": {},
   "outputs": [],
   "source": [
    "#df_test = pd.read_csv(\"https://raw.githubusercontent.com/MathewJohn1986/Team-8-Predict/main/df-test_set.csv\") "
   ]
  },
  {
   "cell_type": "code",
   "execution_count": 6,
   "metadata": {},
   "outputs": [
    {
     "data": {
      "text/html": [
       "<div>\n",
       "<style scoped>\n",
       "    .dataframe tbody tr th:only-of-type {\n",
       "        vertical-align: middle;\n",
       "    }\n",
       "\n",
       "    .dataframe tbody tr th {\n",
       "        vertical-align: top;\n",
       "    }\n",
       "\n",
       "    .dataframe thead th {\n",
       "        text-align: right;\n",
       "    }\n",
       "</style>\n",
       "<table border=\"1\" class=\"dataframe\">\n",
       "  <thead>\n",
       "    <tr style=\"text-align: right;\">\n",
       "      <th></th>\n",
       "      <th>Province</th>\n",
       "      <th>Container</th>\n",
       "      <th>Size_Grade</th>\n",
       "      <th>Weight_Kg</th>\n",
       "      <th>Commodities</th>\n",
       "      <th>Date</th>\n",
       "      <th>Low_Price</th>\n",
       "      <th>High_Price</th>\n",
       "      <th>Sales_Total</th>\n",
       "      <th>Total_Qty_Sold</th>\n",
       "      <th>Total_Kg_Sold</th>\n",
       "      <th>Stock_On_Hand</th>\n",
       "      <th>avg_price_per_kg</th>\n",
       "    </tr>\n",
       "  </thead>\n",
       "  <tbody>\n",
       "    <tr>\n",
       "      <th>0</th>\n",
       "      <td>CAPE</td>\n",
       "      <td>EC120</td>\n",
       "      <td>1L</td>\n",
       "      <td>12.0</td>\n",
       "      <td>APPLE GRANNY SMITH</td>\n",
       "      <td>2020-03-10</td>\n",
       "      <td>108.0</td>\n",
       "      <td>112.0</td>\n",
       "      <td>3236.0</td>\n",
       "      <td>29</td>\n",
       "      <td>348.0</td>\n",
       "      <td>0</td>\n",
       "      <td>9.30</td>\n",
       "    </tr>\n",
       "    <tr>\n",
       "      <th>1</th>\n",
       "      <td>CAPE</td>\n",
       "      <td>M4183</td>\n",
       "      <td>1L</td>\n",
       "      <td>18.3</td>\n",
       "      <td>APPLE GOLDEN DELICIOUS</td>\n",
       "      <td>2020-09-09</td>\n",
       "      <td>150.0</td>\n",
       "      <td>170.0</td>\n",
       "      <td>51710.0</td>\n",
       "      <td>332</td>\n",
       "      <td>6075.6</td>\n",
       "      <td>822</td>\n",
       "      <td>8.51</td>\n",
       "    </tr>\n",
       "  </tbody>\n",
       "</table>\n",
       "</div>"
      ],
      "text/plain": [
       "  Province Container Size_Grade  Weight_Kg             Commodities  \\\n",
       "0     CAPE     EC120         1L       12.0      APPLE GRANNY SMITH   \n",
       "1     CAPE     M4183         1L       18.3  APPLE GOLDEN DELICIOUS   \n",
       "\n",
       "         Date  Low_Price  High_Price  Sales_Total  Total_Qty_Sold  \\\n",
       "0  2020-03-10      108.0       112.0       3236.0              29   \n",
       "1  2020-09-09      150.0       170.0      51710.0             332   \n",
       "\n",
       "   Total_Kg_Sold  Stock_On_Hand  avg_price_per_kg  \n",
       "0          348.0              0              9.30  \n",
       "1         6075.6            822              8.51  "
      ]
     },
     "execution_count": 6,
     "metadata": {},
     "output_type": "execute_result"
    }
   ],
   "source": [
    "# First view of the train set\n",
    "df_train.head(2)"
   ]
  },
  {
   "cell_type": "code",
   "execution_count": 7,
   "metadata": {},
   "outputs": [
    {
     "data": {
      "text/html": [
       "<div>\n",
       "<style scoped>\n",
       "    .dataframe tbody tr th:only-of-type {\n",
       "        vertical-align: middle;\n",
       "    }\n",
       "\n",
       "    .dataframe tbody tr th {\n",
       "        vertical-align: top;\n",
       "    }\n",
       "\n",
       "    .dataframe thead th {\n",
       "        text-align: right;\n",
       "    }\n",
       "</style>\n",
       "<table border=\"1\" class=\"dataframe\">\n",
       "  <thead>\n",
       "    <tr style=\"text-align: right;\">\n",
       "      <th></th>\n",
       "      <th>Index</th>\n",
       "      <th>Province</th>\n",
       "      <th>Container</th>\n",
       "      <th>Size_Grade</th>\n",
       "      <th>Weight_Kg</th>\n",
       "      <th>Commodities</th>\n",
       "      <th>Date</th>\n",
       "      <th>Low_Price</th>\n",
       "      <th>High_Price</th>\n",
       "      <th>Sales_Total</th>\n",
       "      <th>Total_Qty_Sold</th>\n",
       "      <th>Total_Kg_Sold</th>\n",
       "      <th>Stock_On_Hand</th>\n",
       "    </tr>\n",
       "  </thead>\n",
       "  <tbody>\n",
       "    <tr>\n",
       "      <th>0</th>\n",
       "      <td>1</td>\n",
       "      <td>W.CAPE-BERGRIVER ETC</td>\n",
       "      <td>EC120</td>\n",
       "      <td>1M</td>\n",
       "      <td>12.0</td>\n",
       "      <td>APPLE GOLDEN DELICIOUS</td>\n",
       "      <td>2020-07-09</td>\n",
       "      <td>128.0</td>\n",
       "      <td>136.0</td>\n",
       "      <td>5008.0</td>\n",
       "      <td>38</td>\n",
       "      <td>456.0</td>\n",
       "      <td>0</td>\n",
       "    </tr>\n",
       "    <tr>\n",
       "      <th>1</th>\n",
       "      <td>2</td>\n",
       "      <td>W.CAPE-BERGRIVER ETC</td>\n",
       "      <td>M4183</td>\n",
       "      <td>1X</td>\n",
       "      <td>18.3</td>\n",
       "      <td>APPLE GOLDEN DELICIOUS</td>\n",
       "      <td>2020-01-20</td>\n",
       "      <td>220.0</td>\n",
       "      <td>220.0</td>\n",
       "      <td>1760.0</td>\n",
       "      <td>8</td>\n",
       "      <td>146.4</td>\n",
       "      <td>2</td>\n",
       "    </tr>\n",
       "  </tbody>\n",
       "</table>\n",
       "</div>"
      ],
      "text/plain": [
       "   Index              Province Container Size_Grade  Weight_Kg  \\\n",
       "0      1  W.CAPE-BERGRIVER ETC     EC120         1M       12.0   \n",
       "1      2  W.CAPE-BERGRIVER ETC     M4183         1X       18.3   \n",
       "\n",
       "              Commodities        Date  Low_Price  High_Price  Sales_Total  \\\n",
       "0  APPLE GOLDEN DELICIOUS  2020-07-09      128.0       136.0       5008.0   \n",
       "1  APPLE GOLDEN DELICIOUS  2020-01-20      220.0       220.0       1760.0   \n",
       "\n",
       "   Total_Qty_Sold  Total_Kg_Sold  Stock_On_Hand  \n",
       "0              38          456.0              0  \n",
       "1               8          146.4              2  "
      ]
     },
     "execution_count": 7,
     "metadata": {},
     "output_type": "execute_result"
    }
   ],
   "source": [
    "df_test.head(2)"
   ]
  },
  {
   "cell_type": "code",
   "execution_count": 7,
   "metadata": {},
   "outputs": [],
   "source": [
    "df_train = df_train[df_train.Commodities.str.contains(\"APPLE GOLDEN DELICIOUS\")]\n",
    "\n",
    "df_test =df_test[df_test.Commodities.str.contains(\"APPLE GOLDEN DELICIOUS\")]"
   ]
  },
  {
   "cell_type": "code",
   "execution_count": 9,
   "metadata": {},
   "outputs": [
    {
     "data": {
      "text/html": [
       "<div>\n",
       "<style scoped>\n",
       "    .dataframe tbody tr th:only-of-type {\n",
       "        vertical-align: middle;\n",
       "    }\n",
       "\n",
       "    .dataframe tbody tr th {\n",
       "        vertical-align: top;\n",
       "    }\n",
       "\n",
       "    .dataframe thead th {\n",
       "        text-align: right;\n",
       "    }\n",
       "</style>\n",
       "<table border=\"1\" class=\"dataframe\">\n",
       "  <thead>\n",
       "    <tr style=\"text-align: right;\">\n",
       "      <th></th>\n",
       "      <th>Province</th>\n",
       "      <th>Container</th>\n",
       "      <th>Size_Grade</th>\n",
       "      <th>Weight_Kg</th>\n",
       "      <th>Commodities</th>\n",
       "      <th>Date</th>\n",
       "      <th>Low_Price</th>\n",
       "      <th>High_Price</th>\n",
       "      <th>Sales_Total</th>\n",
       "      <th>Total_Qty_Sold</th>\n",
       "      <th>Total_Kg_Sold</th>\n",
       "      <th>Stock_On_Hand</th>\n",
       "      <th>avg_price_per_kg</th>\n",
       "    </tr>\n",
       "  </thead>\n",
       "  <tbody>\n",
       "    <tr>\n",
       "      <th>1</th>\n",
       "      <td>CAPE</td>\n",
       "      <td>M4183</td>\n",
       "      <td>1L</td>\n",
       "      <td>18.3</td>\n",
       "      <td>APPLE GOLDEN DELICIOUS</td>\n",
       "      <td>2020-09-09</td>\n",
       "      <td>150.0</td>\n",
       "      <td>170.0</td>\n",
       "      <td>51710.0</td>\n",
       "      <td>332</td>\n",
       "      <td>6075.6</td>\n",
       "      <td>822</td>\n",
       "      <td>8.51</td>\n",
       "    </tr>\n",
       "    <tr>\n",
       "      <th>7</th>\n",
       "      <td>CAPE</td>\n",
       "      <td>JG110</td>\n",
       "      <td>2M</td>\n",
       "      <td>11.0</td>\n",
       "      <td>APPLE GOLDEN DELICIOUS</td>\n",
       "      <td>2020-04-14</td>\n",
       "      <td>50.0</td>\n",
       "      <td>50.0</td>\n",
       "      <td>16000.0</td>\n",
       "      <td>320</td>\n",
       "      <td>3520.0</td>\n",
       "      <td>0</td>\n",
       "      <td>4.55</td>\n",
       "    </tr>\n",
       "  </tbody>\n",
       "</table>\n",
       "</div>"
      ],
      "text/plain": [
       "  Province Container Size_Grade  Weight_Kg             Commodities  \\\n",
       "1     CAPE     M4183         1L       18.3  APPLE GOLDEN DELICIOUS   \n",
       "7     CAPE     JG110         2M       11.0  APPLE GOLDEN DELICIOUS   \n",
       "\n",
       "         Date  Low_Price  High_Price  Sales_Total  Total_Qty_Sold  \\\n",
       "1  2020-09-09      150.0       170.0      51710.0             332   \n",
       "7  2020-04-14       50.0        50.0      16000.0             320   \n",
       "\n",
       "   Total_Kg_Sold  Stock_On_Hand  avg_price_per_kg  \n",
       "1         6075.6            822              8.51  \n",
       "7         3520.0              0              4.55  "
      ]
     },
     "execution_count": 9,
     "metadata": {},
     "output_type": "execute_result"
    }
   ],
   "source": [
    "df_train.head(2)"
   ]
  },
  {
   "cell_type": "code",
   "execution_count": 10,
   "metadata": {},
   "outputs": [
    {
     "data": {
      "text/html": [
       "<div>\n",
       "<style scoped>\n",
       "    .dataframe tbody tr th:only-of-type {\n",
       "        vertical-align: middle;\n",
       "    }\n",
       "\n",
       "    .dataframe tbody tr th {\n",
       "        vertical-align: top;\n",
       "    }\n",
       "\n",
       "    .dataframe thead th {\n",
       "        text-align: right;\n",
       "    }\n",
       "</style>\n",
       "<table border=\"1\" class=\"dataframe\">\n",
       "  <thead>\n",
       "    <tr style=\"text-align: right;\">\n",
       "      <th></th>\n",
       "      <th>Index</th>\n",
       "      <th>Province</th>\n",
       "      <th>Container</th>\n",
       "      <th>Size_Grade</th>\n",
       "      <th>Weight_Kg</th>\n",
       "      <th>Commodities</th>\n",
       "      <th>Date</th>\n",
       "      <th>Low_Price</th>\n",
       "      <th>High_Price</th>\n",
       "      <th>Sales_Total</th>\n",
       "      <th>Total_Qty_Sold</th>\n",
       "      <th>Total_Kg_Sold</th>\n",
       "      <th>Stock_On_Hand</th>\n",
       "    </tr>\n",
       "  </thead>\n",
       "  <tbody>\n",
       "    <tr>\n",
       "      <th>0</th>\n",
       "      <td>1</td>\n",
       "      <td>W.CAPE-BERGRIVER ETC</td>\n",
       "      <td>EC120</td>\n",
       "      <td>1M</td>\n",
       "      <td>12.0</td>\n",
       "      <td>APPLE GOLDEN DELICIOUS</td>\n",
       "      <td>2020-07-09</td>\n",
       "      <td>128.0</td>\n",
       "      <td>136.0</td>\n",
       "      <td>5008.0</td>\n",
       "      <td>38</td>\n",
       "      <td>456.0</td>\n",
       "      <td>0</td>\n",
       "    </tr>\n",
       "    <tr>\n",
       "      <th>1</th>\n",
       "      <td>2</td>\n",
       "      <td>W.CAPE-BERGRIVER ETC</td>\n",
       "      <td>M4183</td>\n",
       "      <td>1X</td>\n",
       "      <td>18.3</td>\n",
       "      <td>APPLE GOLDEN DELICIOUS</td>\n",
       "      <td>2020-01-20</td>\n",
       "      <td>220.0</td>\n",
       "      <td>220.0</td>\n",
       "      <td>1760.0</td>\n",
       "      <td>8</td>\n",
       "      <td>146.4</td>\n",
       "      <td>2</td>\n",
       "    </tr>\n",
       "  </tbody>\n",
       "</table>\n",
       "</div>"
      ],
      "text/plain": [
       "   Index              Province Container Size_Grade  Weight_Kg  \\\n",
       "0      1  W.CAPE-BERGRIVER ETC     EC120         1M       12.0   \n",
       "1      2  W.CAPE-BERGRIVER ETC     M4183         1X       18.3   \n",
       "\n",
       "              Commodities        Date  Low_Price  High_Price  Sales_Total  \\\n",
       "0  APPLE GOLDEN DELICIOUS  2020-07-09      128.0       136.0       5008.0   \n",
       "1  APPLE GOLDEN DELICIOUS  2020-01-20      220.0       220.0       1760.0   \n",
       "\n",
       "   Total_Qty_Sold  Total_Kg_Sold  Stock_On_Hand  \n",
       "0              38          456.0              0  \n",
       "1               8          146.4              2  "
      ]
     },
     "execution_count": 10,
     "metadata": {},
     "output_type": "execute_result"
    }
   ],
   "source": [
    "df_test.head(2)"
   ]
  },
  {
   "cell_type": "markdown",
   "metadata": {},
   "source": [
    "# Check for null values."
   ]
  },
  {
   "cell_type": "code",
   "execution_count": 11,
   "metadata": {},
   "outputs": [
    {
     "data": {
      "text/plain": [
       "Index             0\n",
       "Province          0\n",
       "Container         0\n",
       "Size_Grade        0\n",
       "Weight_Kg         0\n",
       "Commodities       0\n",
       "Date              0\n",
       "Low_Price         0\n",
       "High_Price        0\n",
       "Sales_Total       0\n",
       "Total_Qty_Sold    0\n",
       "Total_Kg_Sold     0\n",
       "Stock_On_Hand     0\n",
       "dtype: int64"
      ]
     },
     "execution_count": 11,
     "metadata": {},
     "output_type": "execute_result"
    }
   ],
   "source": [
    "df_test.isnull().sum()"
   ]
  },
  {
   "cell_type": "code",
   "execution_count": 12,
   "metadata": {},
   "outputs": [
    {
     "data": {
      "text/plain": [
       "Index             0\n",
       "Province          0\n",
       "Container         0\n",
       "Size_Grade        0\n",
       "Weight_Kg         0\n",
       "Commodities       0\n",
       "Date              0\n",
       "Low_Price         0\n",
       "High_Price        0\n",
       "Sales_Total       0\n",
       "Total_Qty_Sold    0\n",
       "Total_Kg_Sold     0\n",
       "Stock_On_Hand     0\n",
       "dtype: int64"
      ]
     },
     "execution_count": 12,
     "metadata": {},
     "output_type": "execute_result"
    }
   ],
   "source": [
    "df_test.isnull().sum()"
   ]
  },
  {
   "cell_type": "code",
   "execution_count": 13,
   "metadata": {},
   "outputs": [
    {
     "data": {
      "text/html": [
       "<div>\n",
       "<style scoped>\n",
       "    .dataframe tbody tr th:only-of-type {\n",
       "        vertical-align: middle;\n",
       "    }\n",
       "\n",
       "    .dataframe tbody tr th {\n",
       "        vertical-align: top;\n",
       "    }\n",
       "\n",
       "    .dataframe thead th {\n",
       "        text-align: right;\n",
       "    }\n",
       "</style>\n",
       "<table border=\"1\" class=\"dataframe\">\n",
       "  <thead>\n",
       "    <tr style=\"text-align: right;\">\n",
       "      <th></th>\n",
       "      <th>Weight_Kg</th>\n",
       "      <th>Low_Price</th>\n",
       "      <th>High_Price</th>\n",
       "      <th>Sales_Total</th>\n",
       "      <th>Total_Qty_Sold</th>\n",
       "      <th>Total_Kg_Sold</th>\n",
       "      <th>Stock_On_Hand</th>\n",
       "      <th>avg_price_per_kg</th>\n",
       "    </tr>\n",
       "  </thead>\n",
       "  <tbody>\n",
       "    <tr>\n",
       "      <th>count</th>\n",
       "      <td>1952.000000</td>\n",
       "      <td>1952.000000</td>\n",
       "      <td>1952.000000</td>\n",
       "      <td>1952.000000</td>\n",
       "      <td>1952.000000</td>\n",
       "      <td>1952.000000</td>\n",
       "      <td>1952.000000</td>\n",
       "      <td>1952.000000</td>\n",
       "    </tr>\n",
       "    <tr>\n",
       "      <th>mean</th>\n",
       "      <td>40.460912</td>\n",
       "      <td>174.307377</td>\n",
       "      <td>215.648053</td>\n",
       "      <td>20053.533811</td>\n",
       "      <td>174.510758</td>\n",
       "      <td>2960.176332</td>\n",
       "      <td>408.393955</td>\n",
       "      <td>6.778893</td>\n",
       "    </tr>\n",
       "    <tr>\n",
       "      <th>std</th>\n",
       "      <td>99.655169</td>\n",
       "      <td>373.553578</td>\n",
       "      <td>433.546159</td>\n",
       "      <td>39005.069445</td>\n",
       "      <td>308.810797</td>\n",
       "      <td>6097.416527</td>\n",
       "      <td>724.450582</td>\n",
       "      <td>2.248744</td>\n",
       "    </tr>\n",
       "    <tr>\n",
       "      <th>min</th>\n",
       "      <td>3.000000</td>\n",
       "      <td>2.000000</td>\n",
       "      <td>5.000000</td>\n",
       "      <td>5.000000</td>\n",
       "      <td>1.000000</td>\n",
       "      <td>3.000000</td>\n",
       "      <td>0.000000</td>\n",
       "      <td>0.250000</td>\n",
       "    </tr>\n",
       "    <tr>\n",
       "      <th>25%</th>\n",
       "      <td>9.000000</td>\n",
       "      <td>50.000000</td>\n",
       "      <td>60.000000</td>\n",
       "      <td>1325.000000</td>\n",
       "      <td>12.000000</td>\n",
       "      <td>219.600000</td>\n",
       "      <td>9.000000</td>\n",
       "      <td>5.460000</td>\n",
       "    </tr>\n",
       "    <tr>\n",
       "      <th>50%</th>\n",
       "      <td>12.000000</td>\n",
       "      <td>80.000000</td>\n",
       "      <td>108.000000</td>\n",
       "      <td>5495.000000</td>\n",
       "      <td>64.000000</td>\n",
       "      <td>853.500000</td>\n",
       "      <td>126.500000</td>\n",
       "      <td>6.670000</td>\n",
       "    </tr>\n",
       "    <tr>\n",
       "      <th>75%</th>\n",
       "      <td>18.300000</td>\n",
       "      <td>127.250000</td>\n",
       "      <td>160.000000</td>\n",
       "      <td>21082.500000</td>\n",
       "      <td>200.000000</td>\n",
       "      <td>3093.525000</td>\n",
       "      <td>468.000000</td>\n",
       "      <td>8.280000</td>\n",
       "    </tr>\n",
       "    <tr>\n",
       "      <th>max</th>\n",
       "      <td>400.000000</td>\n",
       "      <td>2300.000000</td>\n",
       "      <td>3300.000000</td>\n",
       "      <td>369464.000000</td>\n",
       "      <td>4237.000000</td>\n",
       "      <td>74000.000000</td>\n",
       "      <td>6400.000000</td>\n",
       "      <td>21.240000</td>\n",
       "    </tr>\n",
       "  </tbody>\n",
       "</table>\n",
       "</div>"
      ],
      "text/plain": [
       "         Weight_Kg    Low_Price   High_Price    Sales_Total  Total_Qty_Sold  \\\n",
       "count  1952.000000  1952.000000  1952.000000    1952.000000     1952.000000   \n",
       "mean     40.460912   174.307377   215.648053   20053.533811      174.510758   \n",
       "std      99.655169   373.553578   433.546159   39005.069445      308.810797   \n",
       "min       3.000000     2.000000     5.000000       5.000000        1.000000   \n",
       "25%       9.000000    50.000000    60.000000    1325.000000       12.000000   \n",
       "50%      12.000000    80.000000   108.000000    5495.000000       64.000000   \n",
       "75%      18.300000   127.250000   160.000000   21082.500000      200.000000   \n",
       "max     400.000000  2300.000000  3300.000000  369464.000000     4237.000000   \n",
       "\n",
       "       Total_Kg_Sold  Stock_On_Hand  avg_price_per_kg  \n",
       "count    1952.000000    1952.000000       1952.000000  \n",
       "mean     2960.176332     408.393955          6.778893  \n",
       "std      6097.416527     724.450582          2.248744  \n",
       "min         3.000000       0.000000          0.250000  \n",
       "25%       219.600000       9.000000          5.460000  \n",
       "50%       853.500000     126.500000          6.670000  \n",
       "75%      3093.525000     468.000000          8.280000  \n",
       "max     74000.000000    6400.000000         21.240000  "
      ]
     },
     "execution_count": 13,
     "metadata": {},
     "output_type": "execute_result"
    }
   ],
   "source": [
    "df_train.describe()"
   ]
  },
  {
   "cell_type": "code",
   "execution_count": 14,
   "metadata": {},
   "outputs": [
    {
     "data": {
      "text/html": [
       "<div>\n",
       "<style scoped>\n",
       "    .dataframe tbody tr th:only-of-type {\n",
       "        vertical-align: middle;\n",
       "    }\n",
       "\n",
       "    .dataframe tbody tr th {\n",
       "        vertical-align: top;\n",
       "    }\n",
       "\n",
       "    .dataframe thead th {\n",
       "        text-align: right;\n",
       "    }\n",
       "</style>\n",
       "<table border=\"1\" class=\"dataframe\">\n",
       "  <thead>\n",
       "    <tr style=\"text-align: right;\">\n",
       "      <th></th>\n",
       "      <th>Index</th>\n",
       "      <th>Weight_Kg</th>\n",
       "      <th>Low_Price</th>\n",
       "      <th>High_Price</th>\n",
       "      <th>Sales_Total</th>\n",
       "      <th>Total_Qty_Sold</th>\n",
       "      <th>Total_Kg_Sold</th>\n",
       "      <th>Stock_On_Hand</th>\n",
       "    </tr>\n",
       "  </thead>\n",
       "  <tbody>\n",
       "    <tr>\n",
       "      <th>count</th>\n",
       "      <td>685.000000</td>\n",
       "      <td>685.000000</td>\n",
       "      <td>685.000000</td>\n",
       "      <td>685.000000</td>\n",
       "      <td>685.000000</td>\n",
       "      <td>685.000000</td>\n",
       "      <td>685.000000</td>\n",
       "      <td>685.000000</td>\n",
       "    </tr>\n",
       "    <tr>\n",
       "      <th>mean</th>\n",
       "      <td>343.000000</td>\n",
       "      <td>34.142482</td>\n",
       "      <td>164.202891</td>\n",
       "      <td>195.590073</td>\n",
       "      <td>18788.111212</td>\n",
       "      <td>174.883212</td>\n",
       "      <td>2725.402336</td>\n",
       "      <td>439.245255</td>\n",
       "    </tr>\n",
       "    <tr>\n",
       "      <th>std</th>\n",
       "      <td>197.886752</td>\n",
       "      <td>87.575995</td>\n",
       "      <td>355.167319</td>\n",
       "      <td>389.109476</td>\n",
       "      <td>33951.586813</td>\n",
       "      <td>299.351142</td>\n",
       "      <td>5059.123311</td>\n",
       "      <td>715.985761</td>\n",
       "    </tr>\n",
       "    <tr>\n",
       "      <th>min</th>\n",
       "      <td>1.000000</td>\n",
       "      <td>3.000000</td>\n",
       "      <td>10.000000</td>\n",
       "      <td>10.000000</td>\n",
       "      <td>10.000000</td>\n",
       "      <td>1.000000</td>\n",
       "      <td>6.300000</td>\n",
       "      <td>0.000000</td>\n",
       "    </tr>\n",
       "    <tr>\n",
       "      <th>25%</th>\n",
       "      <td>172.000000</td>\n",
       "      <td>9.000000</td>\n",
       "      <td>50.000000</td>\n",
       "      <td>64.000000</td>\n",
       "      <td>1300.000000</td>\n",
       "      <td>13.000000</td>\n",
       "      <td>204.000000</td>\n",
       "      <td>20.000000</td>\n",
       "    </tr>\n",
       "    <tr>\n",
       "      <th>50%</th>\n",
       "      <td>343.000000</td>\n",
       "      <td>12.000000</td>\n",
       "      <td>80.000000</td>\n",
       "      <td>112.000000</td>\n",
       "      <td>5520.000000</td>\n",
       "      <td>62.000000</td>\n",
       "      <td>860.100000</td>\n",
       "      <td>153.000000</td>\n",
       "    </tr>\n",
       "    <tr>\n",
       "      <th>75%</th>\n",
       "      <td>514.000000</td>\n",
       "      <td>18.300000</td>\n",
       "      <td>128.000000</td>\n",
       "      <td>160.000000</td>\n",
       "      <td>21176.000000</td>\n",
       "      <td>200.000000</td>\n",
       "      <td>3033.000000</td>\n",
       "      <td>516.000000</td>\n",
       "    </tr>\n",
       "    <tr>\n",
       "      <th>max</th>\n",
       "      <td>685.000000</td>\n",
       "      <td>400.000000</td>\n",
       "      <td>2400.000000</td>\n",
       "      <td>2400.000000</td>\n",
       "      <td>308010.000000</td>\n",
       "      <td>2774.000000</td>\n",
       "      <td>47200.000000</td>\n",
       "      <td>6827.000000</td>\n",
       "    </tr>\n",
       "  </tbody>\n",
       "</table>\n",
       "</div>"
      ],
      "text/plain": [
       "            Index   Weight_Kg    Low_Price   High_Price    Sales_Total  \\\n",
       "count  685.000000  685.000000   685.000000   685.000000     685.000000   \n",
       "mean   343.000000   34.142482   164.202891   195.590073   18788.111212   \n",
       "std    197.886752   87.575995   355.167319   389.109476   33951.586813   \n",
       "min      1.000000    3.000000    10.000000    10.000000      10.000000   \n",
       "25%    172.000000    9.000000    50.000000    64.000000    1300.000000   \n",
       "50%    343.000000   12.000000    80.000000   112.000000    5520.000000   \n",
       "75%    514.000000   18.300000   128.000000   160.000000   21176.000000   \n",
       "max    685.000000  400.000000  2400.000000  2400.000000  308010.000000   \n",
       "\n",
       "       Total_Qty_Sold  Total_Kg_Sold  Stock_On_Hand  \n",
       "count      685.000000     685.000000     685.000000  \n",
       "mean       174.883212    2725.402336     439.245255  \n",
       "std        299.351142    5059.123311     715.985761  \n",
       "min          1.000000       6.300000       0.000000  \n",
       "25%         13.000000     204.000000      20.000000  \n",
       "50%         62.000000     860.100000     153.000000  \n",
       "75%        200.000000    3033.000000     516.000000  \n",
       "max       2774.000000   47200.000000    6827.000000  "
      ]
     },
     "execution_count": 14,
     "metadata": {},
     "output_type": "execute_result"
    }
   ],
   "source": [
    "df_test.describe()"
   ]
  },
  {
   "cell_type": "markdown",
   "metadata": {},
   "source": [
    "# Remove features that are not needed."
   ]
  },
  {
   "cell_type": "code",
   "execution_count": 8,
   "metadata": {},
   "outputs": [],
   "source": [
    "df_train = df_train.drop(\"Commodities\", axis = \"columns\")"
   ]
  },
  {
   "cell_type": "code",
   "execution_count": 9,
   "metadata": {},
   "outputs": [],
   "source": [
    "df_test = df_test.drop(\"Commodities\", axis = \"columns\")"
   ]
  },
  {
   "cell_type": "code",
   "execution_count": 17,
   "metadata": {},
   "outputs": [
    {
     "data": {
      "text/html": [
       "<div>\n",
       "<style scoped>\n",
       "    .dataframe tbody tr th:only-of-type {\n",
       "        vertical-align: middle;\n",
       "    }\n",
       "\n",
       "    .dataframe tbody tr th {\n",
       "        vertical-align: top;\n",
       "    }\n",
       "\n",
       "    .dataframe thead th {\n",
       "        text-align: right;\n",
       "    }\n",
       "</style>\n",
       "<table border=\"1\" class=\"dataframe\">\n",
       "  <thead>\n",
       "    <tr style=\"text-align: right;\">\n",
       "      <th></th>\n",
       "      <th>Province</th>\n",
       "      <th>Container</th>\n",
       "      <th>Size_Grade</th>\n",
       "      <th>Weight_Kg</th>\n",
       "      <th>Date</th>\n",
       "      <th>Low_Price</th>\n",
       "      <th>High_Price</th>\n",
       "      <th>Sales_Total</th>\n",
       "      <th>Total_Qty_Sold</th>\n",
       "      <th>Total_Kg_Sold</th>\n",
       "      <th>Stock_On_Hand</th>\n",
       "      <th>avg_price_per_kg</th>\n",
       "    </tr>\n",
       "  </thead>\n",
       "  <tbody>\n",
       "    <tr>\n",
       "      <th>1</th>\n",
       "      <td>CAPE</td>\n",
       "      <td>M4183</td>\n",
       "      <td>1L</td>\n",
       "      <td>18.3</td>\n",
       "      <td>2020-09-09</td>\n",
       "      <td>150.0</td>\n",
       "      <td>170.0</td>\n",
       "      <td>51710.0</td>\n",
       "      <td>332</td>\n",
       "      <td>6075.6</td>\n",
       "      <td>822</td>\n",
       "      <td>8.51</td>\n",
       "    </tr>\n",
       "  </tbody>\n",
       "</table>\n",
       "</div>"
      ],
      "text/plain": [
       "  Province Container Size_Grade  Weight_Kg        Date  Low_Price  High_Price  \\\n",
       "1     CAPE     M4183         1L       18.3  2020-09-09      150.0       170.0   \n",
       "\n",
       "   Sales_Total  Total_Qty_Sold  Total_Kg_Sold  Stock_On_Hand  avg_price_per_kg  \n",
       "1      51710.0             332         6075.6            822              8.51  "
      ]
     },
     "execution_count": 17,
     "metadata": {},
     "output_type": "execute_result"
    }
   ],
   "source": [
    "df_train.head(1)"
   ]
  },
  {
   "cell_type": "code",
   "execution_count": 18,
   "metadata": {},
   "outputs": [
    {
     "data": {
      "text/html": [
       "<div>\n",
       "<style scoped>\n",
       "    .dataframe tbody tr th:only-of-type {\n",
       "        vertical-align: middle;\n",
       "    }\n",
       "\n",
       "    .dataframe tbody tr th {\n",
       "        vertical-align: top;\n",
       "    }\n",
       "\n",
       "    .dataframe thead th {\n",
       "        text-align: right;\n",
       "    }\n",
       "</style>\n",
       "<table border=\"1\" class=\"dataframe\">\n",
       "  <thead>\n",
       "    <tr style=\"text-align: right;\">\n",
       "      <th></th>\n",
       "      <th>Index</th>\n",
       "      <th>Province</th>\n",
       "      <th>Container</th>\n",
       "      <th>Size_Grade</th>\n",
       "      <th>Weight_Kg</th>\n",
       "      <th>Date</th>\n",
       "      <th>Low_Price</th>\n",
       "      <th>High_Price</th>\n",
       "      <th>Sales_Total</th>\n",
       "      <th>Total_Qty_Sold</th>\n",
       "      <th>Total_Kg_Sold</th>\n",
       "      <th>Stock_On_Hand</th>\n",
       "    </tr>\n",
       "  </thead>\n",
       "  <tbody>\n",
       "    <tr>\n",
       "      <th>0</th>\n",
       "      <td>1</td>\n",
       "      <td>W.CAPE-BERGRIVER ETC</td>\n",
       "      <td>EC120</td>\n",
       "      <td>1M</td>\n",
       "      <td>12.0</td>\n",
       "      <td>2020-07-09</td>\n",
       "      <td>128.0</td>\n",
       "      <td>136.0</td>\n",
       "      <td>5008.0</td>\n",
       "      <td>38</td>\n",
       "      <td>456.0</td>\n",
       "      <td>0</td>\n",
       "    </tr>\n",
       "  </tbody>\n",
       "</table>\n",
       "</div>"
      ],
      "text/plain": [
       "   Index              Province Container Size_Grade  Weight_Kg        Date  \\\n",
       "0      1  W.CAPE-BERGRIVER ETC     EC120         1M       12.0  2020-07-09   \n",
       "\n",
       "   Low_Price  High_Price  Sales_Total  Total_Qty_Sold  Total_Kg_Sold  \\\n",
       "0      128.0       136.0       5008.0              38          456.0   \n",
       "\n",
       "   Stock_On_Hand  \n",
       "0              0  "
      ]
     },
     "execution_count": 18,
     "metadata": {},
     "output_type": "execute_result"
    }
   ],
   "source": [
    "df_test.head(1)"
   ]
  },
  {
   "cell_type": "markdown",
   "metadata": {},
   "source": [
    "# Transform non numeric data types to numeric."
   ]
  },
  {
   "cell_type": "code",
   "execution_count": 10,
   "metadata": {},
   "outputs": [],
   "source": [
    "Region = LabelEncoder()\n",
    "Apple_Container = LabelEncoder()\n",
    "Grade = LabelEncoder()"
   ]
  },
  {
   "cell_type": "code",
   "execution_count": 11,
   "metadata": {},
   "outputs": [],
   "source": [
    "df_train[\"Province_n\"] = Region.fit_transform(df_train[\"Province\"])\n",
    "df_train[\"Container_n\"] = Apple_Container.fit_transform(df_train[\"Container\"])\n",
    "df_train[\"Size_Grade_n\"] = Grade.fit_transform(df_train[\"Size_Grade\"])"
   ]
  },
  {
   "cell_type": "code",
   "execution_count": 12,
   "metadata": {},
   "outputs": [],
   "source": [
    "df_test[\"Province_n\"] = Region.fit_transform(df_test[\"Province\"])\n",
    "df_test[\"Container_n\"] = Apple_Container.fit_transform(df_test[\"Container\"])\n",
    "df_test[\"Size_Grade_n\"] = Grade.fit_transform(df_test[\"Size_Grade\"])"
   ]
  },
  {
   "cell_type": "markdown",
   "metadata": {},
   "source": [
    "# Drop features that you do not need anymore."
   ]
  },
  {
   "cell_type": "code",
   "execution_count": 13,
   "metadata": {},
   "outputs": [],
   "source": [
    "df_train = df_train.drop([\"Province\", \"Container\", \"Size_Grade\", \"Date\"], axis = \"columns\")"
   ]
  },
  {
   "cell_type": "code",
   "execution_count": 14,
   "metadata": {},
   "outputs": [],
   "source": [
    "df_test = df_test.drop([\"Province\", \"Container\", \"Size_Grade\", \"Date\"], axis = \"columns\")"
   ]
  },
  {
   "cell_type": "markdown",
   "metadata": {},
   "source": [
    "# Check for outliers in your data."
   ]
  },
  {
   "cell_type": "code",
   "execution_count": 24,
   "metadata": {},
   "outputs": [
    {
     "data": {
      "text/html": [
       "<div>\n",
       "<style scoped>\n",
       "    .dataframe tbody tr th:only-of-type {\n",
       "        vertical-align: middle;\n",
       "    }\n",
       "\n",
       "    .dataframe tbody tr th {\n",
       "        vertical-align: top;\n",
       "    }\n",
       "\n",
       "    .dataframe thead th {\n",
       "        text-align: right;\n",
       "    }\n",
       "</style>\n",
       "<table border=\"1\" class=\"dataframe\">\n",
       "  <thead>\n",
       "    <tr style=\"text-align: right;\">\n",
       "      <th></th>\n",
       "      <th>Weight_Kg</th>\n",
       "      <th>Low_Price</th>\n",
       "      <th>High_Price</th>\n",
       "      <th>Sales_Total</th>\n",
       "      <th>Total_Qty_Sold</th>\n",
       "      <th>Total_Kg_Sold</th>\n",
       "      <th>Stock_On_Hand</th>\n",
       "      <th>avg_price_per_kg</th>\n",
       "      <th>Province_n</th>\n",
       "      <th>Container_n</th>\n",
       "      <th>Size_Grade_n</th>\n",
       "    </tr>\n",
       "  </thead>\n",
       "  <tbody>\n",
       "    <tr>\n",
       "      <th>count</th>\n",
       "      <td>1952.000000</td>\n",
       "      <td>1952.000000</td>\n",
       "      <td>1952.000000</td>\n",
       "      <td>1952.000000</td>\n",
       "      <td>1952.000000</td>\n",
       "      <td>1952.000000</td>\n",
       "      <td>1952.000000</td>\n",
       "      <td>1952.000000</td>\n",
       "      <td>1952.000000</td>\n",
       "      <td>1952.000000</td>\n",
       "      <td>1952.000000</td>\n",
       "    </tr>\n",
       "    <tr>\n",
       "      <th>mean</th>\n",
       "      <td>40.460912</td>\n",
       "      <td>174.307377</td>\n",
       "      <td>215.648053</td>\n",
       "      <td>20053.533811</td>\n",
       "      <td>174.510758</td>\n",
       "      <td>2960.176332</td>\n",
       "      <td>408.393955</td>\n",
       "      <td>6.778893</td>\n",
       "      <td>1.778176</td>\n",
       "      <td>5.450820</td>\n",
       "      <td>3.376537</td>\n",
       "    </tr>\n",
       "    <tr>\n",
       "      <th>std</th>\n",
       "      <td>99.655169</td>\n",
       "      <td>373.553578</td>\n",
       "      <td>433.546159</td>\n",
       "      <td>39005.069445</td>\n",
       "      <td>308.810797</td>\n",
       "      <td>6097.416527</td>\n",
       "      <td>724.450582</td>\n",
       "      <td>2.248744</td>\n",
       "      <td>2.301577</td>\n",
       "      <td>2.399949</td>\n",
       "      <td>2.539715</td>\n",
       "    </tr>\n",
       "    <tr>\n",
       "      <th>min</th>\n",
       "      <td>3.000000</td>\n",
       "      <td>2.000000</td>\n",
       "      <td>5.000000</td>\n",
       "      <td>5.000000</td>\n",
       "      <td>1.000000</td>\n",
       "      <td>3.000000</td>\n",
       "      <td>0.000000</td>\n",
       "      <td>0.250000</td>\n",
       "      <td>0.000000</td>\n",
       "      <td>0.000000</td>\n",
       "      <td>0.000000</td>\n",
       "    </tr>\n",
       "    <tr>\n",
       "      <th>25%</th>\n",
       "      <td>9.000000</td>\n",
       "      <td>50.000000</td>\n",
       "      <td>60.000000</td>\n",
       "      <td>1325.000000</td>\n",
       "      <td>12.000000</td>\n",
       "      <td>219.600000</td>\n",
       "      <td>9.000000</td>\n",
       "      <td>5.460000</td>\n",
       "      <td>0.000000</td>\n",
       "      <td>3.000000</td>\n",
       "      <td>1.000000</td>\n",
       "    </tr>\n",
       "    <tr>\n",
       "      <th>50%</th>\n",
       "      <td>12.000000</td>\n",
       "      <td>80.000000</td>\n",
       "      <td>108.000000</td>\n",
       "      <td>5495.000000</td>\n",
       "      <td>64.000000</td>\n",
       "      <td>853.500000</td>\n",
       "      <td>126.500000</td>\n",
       "      <td>6.670000</td>\n",
       "      <td>0.000000</td>\n",
       "      <td>6.000000</td>\n",
       "      <td>2.000000</td>\n",
       "    </tr>\n",
       "    <tr>\n",
       "      <th>75%</th>\n",
       "      <td>18.300000</td>\n",
       "      <td>127.250000</td>\n",
       "      <td>160.000000</td>\n",
       "      <td>21082.500000</td>\n",
       "      <td>200.000000</td>\n",
       "      <td>3093.525000</td>\n",
       "      <td>468.000000</td>\n",
       "      <td>8.280000</td>\n",
       "      <td>5.000000</td>\n",
       "      <td>8.000000</td>\n",
       "      <td>6.000000</td>\n",
       "    </tr>\n",
       "    <tr>\n",
       "      <th>max</th>\n",
       "      <td>400.000000</td>\n",
       "      <td>2300.000000</td>\n",
       "      <td>3300.000000</td>\n",
       "      <td>369464.000000</td>\n",
       "      <td>4237.000000</td>\n",
       "      <td>74000.000000</td>\n",
       "      <td>6400.000000</td>\n",
       "      <td>21.240000</td>\n",
       "      <td>6.000000</td>\n",
       "      <td>10.000000</td>\n",
       "      <td>9.000000</td>\n",
       "    </tr>\n",
       "  </tbody>\n",
       "</table>\n",
       "</div>"
      ],
      "text/plain": [
       "         Weight_Kg    Low_Price   High_Price    Sales_Total  Total_Qty_Sold  \\\n",
       "count  1952.000000  1952.000000  1952.000000    1952.000000     1952.000000   \n",
       "mean     40.460912   174.307377   215.648053   20053.533811      174.510758   \n",
       "std      99.655169   373.553578   433.546159   39005.069445      308.810797   \n",
       "min       3.000000     2.000000     5.000000       5.000000        1.000000   \n",
       "25%       9.000000    50.000000    60.000000    1325.000000       12.000000   \n",
       "50%      12.000000    80.000000   108.000000    5495.000000       64.000000   \n",
       "75%      18.300000   127.250000   160.000000   21082.500000      200.000000   \n",
       "max     400.000000  2300.000000  3300.000000  369464.000000     4237.000000   \n",
       "\n",
       "       Total_Kg_Sold  Stock_On_Hand  avg_price_per_kg   Province_n  \\\n",
       "count    1952.000000    1952.000000       1952.000000  1952.000000   \n",
       "mean     2960.176332     408.393955          6.778893     1.778176   \n",
       "std      6097.416527     724.450582          2.248744     2.301577   \n",
       "min         3.000000       0.000000          0.250000     0.000000   \n",
       "25%       219.600000       9.000000          5.460000     0.000000   \n",
       "50%       853.500000     126.500000          6.670000     0.000000   \n",
       "75%      3093.525000     468.000000          8.280000     5.000000   \n",
       "max     74000.000000    6400.000000         21.240000     6.000000   \n",
       "\n",
       "       Container_n  Size_Grade_n  \n",
       "count  1952.000000   1952.000000  \n",
       "mean      5.450820      3.376537  \n",
       "std       2.399949      2.539715  \n",
       "min       0.000000      0.000000  \n",
       "25%       3.000000      1.000000  \n",
       "50%       6.000000      2.000000  \n",
       "75%       8.000000      6.000000  \n",
       "max      10.000000      9.000000  "
      ]
     },
     "execution_count": 24,
     "metadata": {},
     "output_type": "execute_result"
    }
   ],
   "source": [
    "df_train.describe()"
   ]
  },
  {
   "cell_type": "code",
   "execution_count": 25,
   "metadata": {},
   "outputs": [
    {
     "data": {
      "image/png": "[encoded data removed]",
      "text/plain": [
       "<Figure size 720x288 with 1 Axes>"
      ]
     },
     "metadata": {
      "needs_background": "light"
     },
     "output_type": "display_data"
    }
   ],
   "source": [
    "def Box_plots(df):\n",
    "    plt.figure(figsize=(10, 4))\n",
    "    plt.title(\"Box Plot\")\n",
    "    sns.boxplot(df)\n",
    "    plt.show()\n",
    "Box_plots(df_train['Weight_Kg'])"
   ]
  },
  {
   "cell_type": "code",
   "execution_count": 26,
   "metadata": {},
   "outputs": [
    {
     "data": {
      "image/png": "[encoded data removed]",
      "text/plain": [
       "<Figure size 720x288 with 1 Axes>"
      ]
     },
     "metadata": {
      "needs_background": "light"
     },
     "output_type": "display_data"
    }
   ],
   "source": [
    "Box_plots(df_train['Low_Price'])"
   ]
  },
  {
   "cell_type": "code",
   "execution_count": 27,
   "metadata": {},
   "outputs": [
    {
     "data": {
      "image/png": "[encoded data removed]",
      "text/plain": [
       "<Figure size 720x288 with 1 Axes>"
      ]
     },
     "metadata": {
      "needs_background": "light"
     },
     "output_type": "display_data"
    }
   ],
   "source": [
    "Box_plots(df_train['High_Price'])"
   ]
  },
  {
   "cell_type": "code",
   "execution_count": 28,
   "metadata": {},
   "outputs": [
    {
     "data": {
      "image/png": "[encoded data removed]",
      "text/plain": [
       "<Figure size 720x288 with 1 Axes>"
      ]
     },
     "metadata": {
      "needs_background": "light"
     },
     "output_type": "display_data"
    }
   ],
   "source": [
    "Box_plots(df_train['Sales_Total'])"
   ]
  },
  {
   "cell_type": "code",
   "execution_count": 29,
   "metadata": {},
   "outputs": [
    {
     "data": {
      "image/png": "[encoded data removed]",
      "text/plain": [
       "<Figure size 720x288 with 1 Axes>"
      ]
     },
     "metadata": {
      "needs_background": "light"
     },
     "output_type": "display_data"
    }
   ],
   "source": [
    "Box_plots(df_train['Total_Qty_Sold'])"
   ]
  },
  {
   "cell_type": "code",
   "execution_count": 30,
   "metadata": {},
   "outputs": [
    {
     "data": {
      "image/png": "[encoded data removed]",
      "text/plain": [
       "<Figure size 720x288 with 1 Axes>"
      ]
     },
     "metadata": {
      "needs_background": "light"
     },
     "output_type": "display_data"
    }
   ],
   "source": [
    "Box_plots(df_train['Total_Kg_Sold'])"
   ]
  },
  {
   "cell_type": "code",
   "execution_count": 31,
   "metadata": {},
   "outputs": [
    {
     "data": {
      "image/png": "[encoded data removed]",
      "text/plain": [
       "<Figure size 720x288 with 1 Axes>"
      ]
     },
     "metadata": {
      "needs_background": "light"
     },
     "output_type": "display_data"
    }
   ],
   "source": [
    "Box_plots(df_train['Stock_On_Hand'])"
   ]
  },
  {
   "cell_type": "code",
   "execution_count": 32,
   "metadata": {},
   "outputs": [
    {
     "data": {
      "image/png": "[encoded data removed]",
      "text/plain": [
       "<Figure size 720x288 with 1 Axes>"
      ]
     },
     "metadata": {
      "needs_background": "light"
     },
     "output_type": "display_data"
    }
   ],
   "source": [
    "Box_plots(df_train['avg_price_per_kg'])"
   ]
  },
  {
   "cell_type": "code",
   "execution_count": 33,
   "metadata": {},
   "outputs": [
    {
     "data": {
      "text/html": [
       "<div>\n",
       "<style scoped>\n",
       "    .dataframe tbody tr th:only-of-type {\n",
       "        vertical-align: middle;\n",
       "    }\n",
       "\n",
       "    .dataframe tbody tr th {\n",
       "        vertical-align: top;\n",
       "    }\n",
       "\n",
       "    .dataframe thead th {\n",
       "        text-align: right;\n",
       "    }\n",
       "</style>\n",
       "<table border=\"1\" class=\"dataframe\">\n",
       "  <thead>\n",
       "    <tr style=\"text-align: right;\">\n",
       "      <th></th>\n",
       "      <th>Weight_Kg</th>\n",
       "      <th>Low_Price</th>\n",
       "      <th>High_Price</th>\n",
       "      <th>Sales_Total</th>\n",
       "      <th>Total_Qty_Sold</th>\n",
       "      <th>Total_Kg_Sold</th>\n",
       "      <th>Stock_On_Hand</th>\n",
       "      <th>avg_price_per_kg</th>\n",
       "      <th>Province_n</th>\n",
       "      <th>Container_n</th>\n",
       "      <th>Size_Grade_n</th>\n",
       "    </tr>\n",
       "  </thead>\n",
       "  <tbody>\n",
       "    <tr>\n",
       "      <th>1</th>\n",
       "      <td>18.3</td>\n",
       "      <td>150.0</td>\n",
       "      <td>170.0</td>\n",
       "      <td>51710.0</td>\n",
       "      <td>332</td>\n",
       "      <td>6075.6</td>\n",
       "      <td>822</td>\n",
       "      <td>8.51</td>\n",
       "      <td>0</td>\n",
       "      <td>8</td>\n",
       "      <td>0</td>\n",
       "    </tr>\n",
       "  </tbody>\n",
       "</table>\n",
       "</div>"
      ],
      "text/plain": [
       "   Weight_Kg  Low_Price  High_Price  Sales_Total  Total_Qty_Sold  \\\n",
       "1       18.3      150.0       170.0      51710.0             332   \n",
       "\n",
       "   Total_Kg_Sold  Stock_On_Hand  avg_price_per_kg  Province_n  Container_n  \\\n",
       "1         6075.6            822              8.51           0            8   \n",
       "\n",
       "   Size_Grade_n  \n",
       "1             0  "
      ]
     },
     "execution_count": 33,
     "metadata": {},
     "output_type": "execute_result"
    }
   ],
   "source": [
    "df_train.head(1)"
   ]
  },
  {
   "cell_type": "code",
   "execution_count": 34,
   "metadata": {},
   "outputs": [
    {
     "data": {
      "text/html": [
       "<div>\n",
       "<style scoped>\n",
       "    .dataframe tbody tr th:only-of-type {\n",
       "        vertical-align: middle;\n",
       "    }\n",
       "\n",
       "    .dataframe tbody tr th {\n",
       "        vertical-align: top;\n",
       "    }\n",
       "\n",
       "    .dataframe thead th {\n",
       "        text-align: right;\n",
       "    }\n",
       "</style>\n",
       "<table border=\"1\" class=\"dataframe\">\n",
       "  <thead>\n",
       "    <tr style=\"text-align: right;\">\n",
       "      <th></th>\n",
       "      <th>Index</th>\n",
       "      <th>Weight_Kg</th>\n",
       "      <th>Low_Price</th>\n",
       "      <th>High_Price</th>\n",
       "      <th>Sales_Total</th>\n",
       "      <th>Total_Qty_Sold</th>\n",
       "      <th>Total_Kg_Sold</th>\n",
       "      <th>Stock_On_Hand</th>\n",
       "      <th>Province_n</th>\n",
       "      <th>Container_n</th>\n",
       "      <th>Size_Grade_n</th>\n",
       "    </tr>\n",
       "  </thead>\n",
       "  <tbody>\n",
       "    <tr>\n",
       "      <th>0</th>\n",
       "      <td>1</td>\n",
       "      <td>12.0</td>\n",
       "      <td>128.0</td>\n",
       "      <td>136.0</td>\n",
       "      <td>5008.0</td>\n",
       "      <td>38</td>\n",
       "      <td>456.0</td>\n",
       "      <td>0</td>\n",
       "      <td>5</td>\n",
       "      <td>2</td>\n",
       "      <td>1</td>\n",
       "    </tr>\n",
       "  </tbody>\n",
       "</table>\n",
       "</div>"
      ],
      "text/plain": [
       "   Index  Weight_Kg  Low_Price  High_Price  Sales_Total  Total_Qty_Sold  \\\n",
       "0      1       12.0      128.0       136.0       5008.0              38   \n",
       "\n",
       "   Total_Kg_Sold  Stock_On_Hand  Province_n  Container_n  Size_Grade_n  \n",
       "0          456.0              0           5            2             1  "
      ]
     },
     "execution_count": 34,
     "metadata": {},
     "output_type": "execute_result"
    }
   ],
   "source": [
    "df_test.head(1)"
   ]
  },
  {
   "cell_type": "code",
   "execution_count": 15,
   "metadata": {},
   "outputs": [],
   "source": [
    "#create a linear reggression class object\n",
    "model = LinearRegression()"
   ]
  },
  {
   "cell_type": "code",
   "execution_count": 16,
   "metadata": {},
   "outputs": [],
   "source": [
    "#define the variables\n",
    "x = df_train[[\"Weight_Kg\",\"Low_Price\",\"High_Price\",\"Sales_Total\",\"Total_Qty_Sold\",\n",
    "                \"Total_Kg_Sold\",\"Stock_On_Hand\",\"Province_n\",\"Container_n\",\"Size_Grade_n\"]]\n",
    "\n",
    "y = df_train[['avg_price_per_kg']]"
   ]
  },
  {
   "cell_type": "code",
   "execution_count": 17,
   "metadata": {},
   "outputs": [],
   "source": [
    "X_train, X_test, y_train, y_test = train_test_split(x, y, test_size = 0.10, random_state = 42)"
   ]
  },
  {
   "cell_type": "code",
   "execution_count": 18,
   "metadata": {},
   "outputs": [
    {
     "data": {
      "text/plain": [
       "LinearRegression()"
      ]
     },
     "execution_count": 18,
     "metadata": {},
     "output_type": "execute_result"
    }
   ],
   "source": [
    "#create a linear reggression class object\n",
    "lin_model = LinearRegression()\n",
    "#fit method\n",
    "lin_model.fit(X_train,y_train)"
   ]
  },
  {
   "cell_type": "code",
   "execution_count": 19,
   "metadata": {},
   "outputs": [
    {
     "data": {
      "text/plain": [
       "array([ 8.98782564,  6.07167429,  3.19835357,  7.55669424,  6.26165756,\n",
       "        8.01887557,  7.28837648,  7.69968122,  4.87857612,  7.64183958,\n",
       "        7.43725041,  6.73762967,  7.79865334,  7.76628787,  8.58176877,\n",
       "        7.04785196,  7.24912249,  7.96779463,  5.61447919,  7.87776715,\n",
       "        8.81344204,  4.46490088,  0.48917938,  7.89928649,  6.16405852,\n",
       "        6.22380013,  5.75489707,  6.05284964,  7.65590399,  7.71086999,\n",
       "        5.12764416,  6.02175236,  3.90763731,  4.01085008,  6.50639687,\n",
       "        7.79726315,  4.10150187,  7.67201962,  7.55498408,  7.71536913,\n",
       "        8.80434165,  3.35147289,  6.98018001,  6.96326411,  5.92014536,\n",
       "        5.59264939,  7.21235902,  7.51498011,  6.07349155,  6.63748044,\n",
       "        5.82908435,  7.09732478,  6.98608666,  5.58442734,  5.30691049,\n",
       "        5.86682565,  7.38591213,  6.30808933,  6.63177624,  5.71369661,\n",
       "        6.09692888,  6.08088941,  4.36803309,  6.96879973,  6.90087251,\n",
       "        5.0789178 ,  5.73901725,  7.57799509,  5.45955459,  8.47268235,\n",
       "        6.82544991,  8.04383442,  5.33144038,  8.5848969 ,  5.65190637,\n",
       "        7.36612978,  8.1025903 ,  9.25574503,  7.05050619,  6.2845424 ,\n",
       "        7.28775417,  4.90288909,  8.38526679,  8.30825827,  7.86658406,\n",
       "        7.89012884,  7.77382321,  7.40233691,  7.43047249,  6.70806219,\n",
       "        5.62567459,  7.18080852,  8.70970426,  5.29451126,  8.79262968,\n",
       "        6.53833786,  5.03005711,  7.30987882,  8.94403003,  6.81770012,\n",
       "        5.94951613,  0.79459144,  8.63434049,  7.64140042,  6.86905925,\n",
       "        5.94868674,  5.6494276 ,  5.33626857,  7.05166162,  7.09056338,\n",
       "        9.13895047,  5.19230957,  5.60721902,  5.84033402,  7.71381175,\n",
       "        5.39823216,  6.86699572,  7.16525914,  6.98937661,  5.88340585,\n",
       "        6.68561013,  7.67966203,  5.33104455,  6.35943824,  8.14649489,\n",
       "        7.75611847,  6.66060314,  7.25645897,  8.98853083,  7.89100687,\n",
       "        7.74493264,  7.56482398,  6.45878714,  4.53611281,  6.20944305,\n",
       "        5.88469243,  6.39424477,  7.60426701,  7.06360624,  6.70580372,\n",
       "        7.36988864,  7.59479328,  7.22664849,  5.83580881,  7.0430059 ,\n",
       "        6.30880435,  2.15105444,  5.73018606,  9.31724845,  7.64962508,\n",
       "        5.6419554 ,  6.03658283,  7.72010134,  6.06605901,  5.74604171,\n",
       "        7.40818603,  7.05458192,  7.11879213,  7.45376042,  4.62792518,\n",
       "        7.75961246,  3.35147289,  7.75549585,  6.53279844,  9.01636477,\n",
       "        7.66138969,  8.82908953,  6.4832461 ,  6.40130808,  7.96083452,\n",
       "        7.32457375,  8.66375737, 10.43603355,  5.4854398 ,  7.07423516,\n",
       "        5.50061416,  7.65230326,  7.43015738,  7.60592821,  8.92272543,\n",
       "        7.51848085,  3.84431084,  5.4854398 ,  5.97834348,  7.68085166,\n",
       "        4.62792518,  7.50512861,  6.31077797,  7.35233394,  8.14656404,\n",
       "        7.50382712,  6.05988528,  9.0126103 ,  6.36655433,  6.73762967,\n",
       "        5.01426247])"
      ]
     },
     "execution_count": 19,
     "metadata": {},
     "output_type": "execute_result"
    }
   ],
   "source": [
    "predictions = lin_model.predict(X_test)\n",
    "preds = np.concatenate(predictions) #flatten array\n",
    "preds"
   ]
  },
  {
   "cell_type": "code",
   "execution_count": 20,
   "metadata": {},
   "outputs": [
    {
     "name": "stdout",
     "output_type": "stream",
     "text": [
      "The coefficients are: [[-1.87811805e-02  8.53076653e-04  2.13908279e-03  7.21370361e-05\n",
      "  -2.22140801e-03 -3.72684753e-04  7.26307335e-05  8.93549933e-02\n",
      "   5.72844050e-02 -3.15701174e-01]]\n",
      "\n",
      "The intercept is [7.52958249]\n"
     ]
    }
   ],
   "source": [
    "print(f'The coefficients are: {lin_model.coef_}\\n')\n",
    "print(f'The intercept is {lin_model.intercept_}')"
   ]
  },
  {
   "cell_type": "code",
   "execution_count": 21,
   "metadata": {},
   "outputs": [
    {
     "data": {
      "text/plain": [
       "0.45142220729314797"
      ]
     },
     "execution_count": 21,
     "metadata": {},
     "output_type": "execute_result"
    }
   ],
   "source": [
    "lin_model.score(X_test, y_test)"
   ]
  },
  {
   "cell_type": "markdown",
   "metadata": {},
   "source": [
    "# Classification models."
   ]
  },
  {
   "cell_type": "markdown",
   "metadata": {},
   "source": [
    "**Knn**"
   ]
  },
  {
   "cell_type": "code",
   "execution_count": 22,
   "metadata": {},
   "outputs": [
    {
     "name": "stdout",
     "output_type": "stream",
     "text": [
      "training set score : 0.62\n",
      "test set score: 0.61\n"
     ]
    }
   ],
   "source": [
    "#knn\n",
    "\n",
    "apple_model = df_train.drop([\"Weight_Kg\",\"Low_Price\",\"High_Price\",\"Sales_Total\",\"Total_Qty_Sold\",\n",
    "                \"Total_Kg_Sold\",\"Stock_On_Hand\",\"Container_n\",\"Size_Grade_n\"], axis=1)\n",
    "\n",
    "target = apple_model['Province_n']\n",
    "features = apple_model.drop(['Province_n'], axis=1)\n",
    "\n",
    "X_train, X_test, y_train, y_test = train_test_split(features.values, target.values, random_state=0)\n",
    "\n",
    "\n",
    "clf = KNeighborsClassifier(n_neighbors=12)\n",
    "clf.fit(X_train, y_train)\n",
    "print(\"training set score : {:.2f}\".format(clf.score(X_train, y_train)))\n",
    "print(\"test set score: {:.2f}\".format(clf.score(X_test, y_test)))"
   ]
  },
  {
   "cell_type": "markdown",
   "metadata": {},
   "source": [
    "**SVM**"
   ]
  },
  {
   "cell_type": "code",
   "execution_count": 23,
   "metadata": {},
   "outputs": [
    {
     "name": "stdout",
     "output_type": "stream",
     "text": [
      "training set score : 0.36\n",
      "test set score: 0.34\n"
     ]
    }
   ],
   "source": [
    "# Linear SVC\n",
    "\n",
    "svc = LinearSVC(C=211).fit(X_train, y_train)\n",
    "print(\"training set score : {:.2f}\".format(svc.score(X_train, y_train)))\n",
    "print(\"test set score: {:.2f}\".format(svc.score(X_test, y_test)))"
   ]
  },
  {
   "cell_type": "markdown",
   "metadata": {},
   "source": [
    "**Decision Tree Classifier**"
   ]
  },
  {
   "cell_type": "code",
   "execution_count": 24,
   "metadata": {},
   "outputs": [
    {
     "name": "stdout",
     "output_type": "stream",
     "text": [
      "training set score : 0.64\n",
      "test set score: 0.59\n",
      "feature importances:\n",
      "                    0\n",
      "1.0  avg_price_per_kg\n"
     ]
    }
   ],
   "source": [
    "appleTree = df_train.drop([\"Weight_Kg\",\"Low_Price\",\"High_Price\",\"Sales_Total\",\"Total_Qty_Sold\",\n",
    "                \"Total_Kg_Sold\",\"Stock_On_Hand\",\"Container_n\",\"Size_Grade_n\"], axis=1)\n",
    "\n",
    "target = appleTree['Province_n']\n",
    "features = appleTree.drop(['Province_n'], axis=1)\n",
    "\n",
    "X_train, X_test, y_train, y_test = train_test_split(features.values, target.values, random_state=0)\n",
    "\n",
    "tree = DecisionTreeClassifier(max_depth=7, random_state=0).fit(X_train, y_train)\n",
    "\n",
    "print(\"training set score : {:.2f}\".format(tree.score(X_train, y_train)))\n",
    "print(\"test set score: {:.2f}\".format(tree.score(X_test, y_test)))\n",
    "\n",
    "print(\"feature importances:\")\n",
    "feature_importance = pd.DataFrame(features.keys(), tree.feature_importances_)\n",
    "print(feature_importance)"
   ]
  },
  {
   "cell_type": "markdown",
   "metadata": {},
   "source": [
    "# Regression models"
   ]
  },
  {
   "cell_type": "markdown",
   "metadata": {},
   "source": [
    "In this section we are going to try to predict the price of the apples."
   ]
  },
  {
   "cell_type": "markdown",
   "metadata": {},
   "source": [
    "**Decision Tree Regressor**"
   ]
  },
  {
   "cell_type": "markdown",
   "metadata": {},
   "source": [
    "The tree models usually don't require preprocessing, so we are going to beging with this model"
   ]
  },
  {
   "cell_type": "code",
   "execution_count": 25,
   "metadata": {},
   "outputs": [],
   "source": [
    "apple_model = df_train.drop([\"Weight_Kg\",\"Low_Price\",\"High_Price\",\"Sales_Total\",\"Total_Qty_Sold\",\n",
    "                \"Total_Kg_Sold\",\"Stock_On_Hand\",\"Container_n\",\"Size_Grade_n\"], axis=1)\n",
    "target = apple_model['avg_price_per_kg']\n",
    "features = apple_model.drop(['avg_price_per_kg'], axis=1)\n",
    "\n",
    "X_train, X_test, y_train, y_test = train_test_split(features.values, target.values, random_state=0)"
   ]
  },
  {
   "cell_type": "code",
   "execution_count": 26,
   "metadata": {},
   "outputs": [
    {
     "name": "stdout",
     "output_type": "stream",
     "text": [
      "training set score : 0.22\n",
      "test set score: 0.22\n",
      "\n",
      " feature importances:\n",
      "              0\n",
      "1.0  Province_n\n"
     ]
    }
   ],
   "source": [
    "tree = DecisionTreeRegressor(max_depth=14, random_state=0).fit(X_train, y_train)\n",
    "print(\"training set score : {:.2f}\".format(tree.score(X_train, y_train)))\n",
    "print(\"test set score: {:.2f}\".format(tree.score(X_test, y_test)))\n",
    "\n",
    "print(\"\\n\", \"feature importances:\")\n",
    "feature_importance = pd.DataFrame(list(features.keys()), tree.feature_importances_)\n",
    "print(feature_importance.sort_index(ascending=False))"
   ]
  },
  {
   "cell_type": "markdown",
   "metadata": {},
   "source": [
    "# Linear models"
   ]
  },
  {
   "cell_type": "code",
   "execution_count": 27,
   "metadata": {},
   "outputs": [
    {
     "name": "stdout",
     "output_type": "stream",
     "text": [
      "Linear Regression\n",
      "training set score : 0.02\n",
      "test set score: -0.01\n",
      "Ridge\n",
      "\n",
      " training set score : 0.02\n",
      "test set score: -0.01\n",
      "Lasso\n",
      "\n",
      " training set score: 0.00\n",
      "Test set score: -0.00\n",
      "Number of features used: 0\n"
     ]
    }
   ],
   "source": [
    "lr = LinearRegression().fit(X_train, y_train)\n",
    "print('Linear Regression')\n",
    "print(\"training set score : {:.2f}\".format(lr.score(X_train, y_train)))\n",
    "print(\"test set score: {:.2f}\".format(lr.score(X_test, y_test)))\n",
    "\n",
    "print('Ridge')\n",
    "ridge = Ridge().fit(X_train, y_train)\n",
    "print(\"\\n\", \"training set score : {:.2f}\".format(ridge.score(X_train, y_train)))\n",
    "print(\"test set score: {:.2f}\".format(ridge.score(X_test, y_test)))\n",
    "\n",
    "print('Lasso')\n",
    "lasso = Lasso().fit(X_train, y_train)\n",
    "print(\"\\n\", \"training set score: {:.2f}\".format(lasso.score(X_train, y_train)))\n",
    "print(\"Test set score: {:.2f}\".format(lasso.score(X_test, y_test)))\n",
    "print(\"Number of features used:\", np.sum(lasso.coef_ != 0))"
   ]
  },
  {
   "cell_type": "markdown",
   "metadata": {},
   "source": [
    "**log**"
   ]
  },
  {
   "cell_type": "code",
   "execution_count": 28,
   "metadata": {},
   "outputs": [
    {
     "name": "stdout",
     "output_type": "stream",
     "text": [
      "Linear Regression\n",
      "training set score : 0.01\n",
      "test set score: -0.01\n",
      "Ridge\n",
      "\n",
      " training set score : 0.01\n",
      "test set score: -0.01\n",
      "Lasso\n",
      "\n",
      " training set score: 0.00\n",
      "Test set score: -0.00\n",
      "Number of features used: 0\n"
     ]
    }
   ],
   "source": [
    "apple_model = df_train.drop([\"Weight_Kg\",\"Low_Price\",\"High_Price\",\"Sales_Total\",\"Total_Qty_Sold\",\n",
    "                \"Total_Kg_Sold\",\"Stock_On_Hand\",\"Container_n\",\"Size_Grade_n\"], axis=1)\n",
    "target = apple_model['avg_price_per_kg']\n",
    "features = apple_model.drop(['avg_price_per_kg'], axis=1)\n",
    "\n",
    "features.iloc[:,0:7] = np.log(features.iloc[:,0:7] + 1)\n",
    "X_train, X_test, y_train, y_test = train_test_split(features.values, target.values, random_state=0)\n",
    "\n",
    "lr = LinearRegression().fit(X_train, y_train)\n",
    "print('Linear Regression')\n",
    "print(\"training set score : {:.2f}\".format(lr.score(X_train, y_train)))\n",
    "print(\"test set score: {:.2f}\".format(lr.score(X_test, y_test)))\n",
    "\n",
    "print('Ridge')\n",
    "ridge = Ridge().fit(X_train, y_train)\n",
    "print(\"\\n\", \"training set score : {:.2f}\".format(ridge.score(X_train, y_train)))\n",
    "print(\"test set score: {:.2f}\".format(ridge.score(X_test, y_test)))\n",
    "\n",
    "print('Lasso')\n",
    "lasso = Lasso().fit(X_train, y_train)\n",
    "print(\"\\n\", \"training set score: {:.2f}\".format(lasso.score(X_train, y_train)))\n",
    "print(\"Test set score: {:.2f}\".format(lasso.score(X_test, y_test)))\n",
    "print(\"Number of features used:\", np.sum(lasso.coef_ != 0))"
   ]
  },
  {
   "cell_type": "markdown",
   "metadata": {},
   "source": [
    "let's add dummy variables"
   ]
  },
  {
   "cell_type": "code",
   "execution_count": 29,
   "metadata": {},
   "outputs": [
    {
     "name": "stdout",
     "output_type": "stream",
     "text": [
      "Linear Regression\n",
      "training set score : 0.01\n",
      "test set score: -0.01\n",
      "Ridge\n",
      "\n",
      " training set score : 0.01\n",
      "test set score: -0.01\n",
      "Lasso\n",
      "\n",
      " training set score: 0.00\n",
      "Test set score: -0.00\n",
      "Number of features used: 0\n"
     ]
    }
   ],
   "source": [
    "apple_model = df_train.drop([\"Weight_Kg\",\"Low_Price\",\"High_Price\",\"Sales_Total\",\"Total_Qty_Sold\",\n",
    "                \"Total_Kg_Sold\",\"Stock_On_Hand\",\"Container_n\",\"Size_Grade_n\"], axis=1)\n",
    "apple_model = pd.get_dummies(apple_model)\n",
    "\n",
    "target = apple_model['avg_price_per_kg']\n",
    "features = apple_model.drop(['avg_price_per_kg'], axis=1)\n",
    "\n",
    "features.iloc[:,0:7] = np.log(features.iloc[:,0:7] + 1)\n",
    "X_train, X_test, y_train, y_test = train_test_split(features.values, target.values, random_state=0)\n",
    "\n",
    "lr = LinearRegression().fit(X_train, y_train)\n",
    "print('Linear Regression')\n",
    "print(\"training set score : {:.2f}\".format(lr.score(X_train, y_train)))\n",
    "print(\"test set score: {:.2f}\".format(lr.score(X_test, y_test)))\n",
    "\n",
    "print('Ridge')\n",
    "ridge = Ridge().fit(X_train, y_train)\n",
    "print(\"\\n\", \"training set score : {:.2f}\".format(ridge.score(X_train, y_train)))\n",
    "print(\"test set score: {:.2f}\".format(ridge.score(X_test, y_test)))\n",
    "\n",
    "print('Lasso')\n",
    "lasso = Lasso().fit(X_train, y_train)\n",
    "print(\"\\n\", \"training set score: {:.2f}\".format(lasso.score(X_train, y_train)))\n",
    "print(\"Test set score: {:.2f}\".format(lasso.score(X_test, y_test)))\n",
    "print(\"Number of features used:\", np.sum(lasso.coef_ != 0))"
   ]
  },
  {
   "cell_type": "markdown",
   "metadata": {},
   "source": [
    "**xgboost**"
   ]
  },
  {
   "cell_type": "code",
   "execution_count": 30,
   "metadata": {},
   "outputs": [
    {
     "data": {
      "text/plain": [
       "((1952, 10), (1952,), (685, 10))"
      ]
     },
     "execution_count": 30,
     "metadata": {},
     "output_type": "execute_result"
    }
   ],
   "source": [
    "X_train = df_train.drop(['avg_price_per_kg'], axis=1)\n",
    "Y_train = df_train[\"avg_price_per_kg\"]\n",
    "X_test  = df_test.drop(\"Index\", axis=1).copy()\n",
    "X_train.shape, Y_train.shape, X_test.shape"
   ]
  },
  {
   "cell_type": "code",
   "execution_count": 31,
   "metadata": {},
   "outputs": [
    {
     "data": {
      "text/plain": [
       "XGBRegressor(base_score=0.5, booster='gbtree', colsample_bylevel=1,\n",
       "             colsample_bynode=1, colsample_bytree=1, gamma=0, gpu_id=-1,\n",
       "             importance_type='gain', interaction_constraints='',\n",
       "             learning_rate=0.300000012, max_delta_step=0, max_depth=6,\n",
       "             min_child_weight=1, missing=nan, monotone_constraints='()',\n",
       "             n_estimators=100, n_jobs=4, num_parallel_tree=1, random_state=0,\n",
       "             reg_alpha=0, reg_lambda=1, scale_pos_weight=1, subsample=1,\n",
       "             tree_method='exact', validate_parameters=1, verbosity=None)"
      ]
     },
     "execution_count": 31,
     "metadata": {},
     "output_type": "execute_result"
    }
   ],
   "source": [
    "xgb = XGBRegressor()\n",
    "xgb.fit(X_train,Y_train)"
   ]
  },
  {
   "cell_type": "code",
   "execution_count": 32,
   "metadata": {},
   "outputs": [
    {
     "data": {
      "text/plain": [
       "array([10.7127    , 12.213106  , 10.005927  ,  8.683472  ,  8.145393  ,\n",
       "        4.6155457 ,  3.645412  ,  7.2271276 ,  8.741584  ,  9.4373455 ,\n",
       "        5.0232544 ,  5.754971  ,  8.680216  ,  4.358358  ,  4.5183797 ,\n",
       "        6.0612464 ,  7.0982385 ,  4.5277057 , 10.733308  ,  6.3176665 ,\n",
       "        6.12521   ,  4.8276367 ,  5.790255  ,  7.7697725 ,  5.5477204 ,\n",
       "        6.3027353 ,  7.5950603 ,  8.102218  ,  7.597903  ,  7.1560235 ,\n",
       "        7.85438   ,  5.5768566 ,  9.102304  ,  7.6949954 ,  4.843875  ,\n",
       "        9.94028   , 10.902665  , 11.3631315 ,  6.4467297 ,  6.716469  ,\n",
       "        8.357286  ,  7.881278  ,  4.984973  ,  6.1892657 ,  5.603555  ,\n",
       "        5.136966  ,  5.0050697 ,  5.4566517 ,  6.2108607 ,  4.891721  ,\n",
       "        1.4852339 ,  6.263884  ,  6.363115  , 13.594087  ,  9.027698  ,\n",
       "        5.5258794 , 11.915675  ,  9.4165    ,  7.869231  ,  5.8870435 ,\n",
       "        8.478942  , 11.428304  ,  6.0628552 ,  9.225271  ,  5.8609715 ,\n",
       "        6.2287893 ,  6.785224  ,  4.9552145 ,  5.542816  ,  7.1393514 ,\n",
       "        5.2679095 ,  4.430272  ,  2.9016562 ,  8.067631  ,  6.854151  ,\n",
       "        5.109194  ,  6.104963  ,  9.15479   , 10.87011   ,  6.333967  ,\n",
       "        6.8818064 ,  5.0275154 ,  5.941837  ,  5.7078447 ,  1.1229588 ,\n",
       "        5.503078  ,  7.4256063 , 11.502748  ,  4.455815  ,  6.873606  ,\n",
       "        9.449918  ,  9.718951  ,  7.554302  ,  5.864293  ,  5.950789  ,\n",
       "        6.4081645 ,  8.613547  ,  9.3417845 ,  6.9278364 ,  5.5760894 ,\n",
       "       11.71348   ,  6.259757  ,  6.128814  ,  7.705372  ,  7.2094073 ,\n",
       "        8.457998  ,  7.5066543 ,  2.704588  ,  9.937728  ,  5.00329   ,\n",
       "        4.1710386 ,  7.787687  ,  6.093859  ,  4.186665  ,  6.5073843 ,\n",
       "       10.124845  ,  5.288475  ,  9.746439  ,  4.454938  ,  6.407794  ,\n",
       "        5.9778585 ,  4.208678  ,  9.925513  ,  4.4923363 ,  8.367064  ,\n",
       "        7.297032  ,  4.677811  ,  9.243891  ,  9.720959  ,  5.6970863 ,\n",
       "        6.5757174 ,  5.5767646 ,  9.228299  ,  8.427604  ,  1.2504741 ,\n",
       "        6.205006  ,  7.73834   ,  6.9358864 ,  7.7971926 ,  5.462969  ,\n",
       "        7.9583683 ,  5.4927993 ,  8.730003  ,  4.915457  ,  8.988273  ,\n",
       "        6.6624575 ,  5.3293915 ,  7.991777  ,  5.4353957 ,  8.754735  ,\n",
       "        9.987176  ,  7.98577   ,  4.475516  ,  8.325653  ,  7.190592  ,\n",
       "       10.916047  ,  5.427817  ,  4.5316973 ,  5.9078565 ,  5.918283  ,\n",
       "        8.032739  ,  9.91721   ,  7.259004  ,  8.374107  ,  7.2186265 ,\n",
       "        7.7658024 ,  7.9442225 ,  6.802309  ,  5.038047  ,  7.6502337 ,\n",
       "        8.623775  ,  7.139873  ,  5.0225687 , 11.941207  ,  5.9603176 ,\n",
       "        4.453982  ,  8.874728  ,  5.581908  ,  6.182141  ,  7.353415  ,\n",
       "        4.99965   ,  0.26225704,  9.927874  ,  7.166165  ,  6.844302  ,\n",
       "        0.23482026,  5.0250154 ,  9.826015  ,  6.962033  ,  5.3030405 ,\n",
       "        5.4575696 ,  9.20164   ,  4.7422695 ,  4.537981  ,  9.970782  ,\n",
       "        8.012062  ,  8.953145  ,  6.912169  ,  5.995756  ,  8.125688  ,\n",
       "        7.8277717 ,  2.7619295 ,  8.0649    ,  1.6175687 ,  6.3674116 ,\n",
       "        4.476799  ,  8.213809  ,  7.7697725 ,  7.5358405 ,  7.8061457 ,\n",
       "        7.2448945 , 13.428717  ,  5.6408195 ,  5.67415   ,  9.403862  ,\n",
       "        5.5944743 ,  5.8600526 ,  5.653029  , 10.572732  ,  7.5439763 ,\n",
       "        5.585867  ,  5.013456  ,  8.977662  , 11.304876  , 11.909646  ,\n",
       "        6.5053654 ,  5.519125  ,  5.6703334 ,  8.9989    ,  5.470243  ,\n",
       "        4.8953214 , 10.412421  ,  7.5976963 ,  5.321285  ,  6.6084847 ,\n",
       "        6.110522  ,  8.822431  ,  8.799052  ,  4.346888  ,  5.888926  ,\n",
       "        4.455806  ,  5.316057  ,  6.5956836 ,  7.9382863 , 10.949071  ,\n",
       "        7.006783  ,  5.6696677 ,  7.6802607 ,  5.1742973 ,  8.500697  ,\n",
       "        8.358384  ,  9.575128  ,  5.290677  ,  4.76053   ,  6.648528  ,\n",
       "        4.5033164 ,  6.8956847 ,  9.243964  ,  8.9355345 ,  8.421159  ,\n",
       "       10.651397  , 10.59472   ,  6.1740255 ,  6.0848727 ,  5.01341   ,\n",
       "        7.3326592 ,  4.664446  ,  6.352258  ,  2.9939163 ,  6.782599  ,\n",
       "        8.908628  ,  6.906672  , 10.599977  ,  1.3388335 ,  7.75758   ,\n",
       "       10.034693  ,  5.014784  ,  6.715787  ,  5.9917154 ,  7.782019  ,\n",
       "        4.979876  ,  5.9518766 ,  6.2808    ,  4.3009806 ,  9.428647  ,\n",
       "        4.6773934 ,  5.890214  ,  5.3236713 ,  8.219532  ,  8.110895  ,\n",
       "        6.196182  ,  6.124155  ,  5.898042  ,  1.2262657 ,  6.5230303 ,\n",
       "        6.965951  ,  8.474942  ,  9.016198  ,  7.7518435 ,  7.3071895 ,\n",
       "        5.538302  ,  6.106994  ,  4.4562964 ,  6.217304  ,  8.604514  ,\n",
       "        9.561296  ,  5.848065  ,  3.7633023 ,  8.185801  ,  6.425407  ,\n",
       "        6.047511  ,  7.285829  ,  5.1492057 ,  8.449918  , 10.70266   ,\n",
       "        8.674789  ,  6.0562906 ,  5.811067  ,  5.9779634 ,  6.828298  ,\n",
       "        6.1581707 ,  6.6061645 ,  3.73533   ,  8.111715  ,  5.0098934 ,\n",
       "        3.856361  ,  7.82547   ,  5.9362364 , 10.865732  ,  7.5659804 ,\n",
       "        5.514233  ,  5.5042853 ,  8.923133  ,  6.0370336 ,  8.158652  ,\n",
       "        8.034238  ,  8.79392   ,  6.66006   ,  7.598678  ,  4.652927  ,\n",
       "        6.8007665 ,  5.475538  ,  9.126834  ,  6.895287  ,  9.399754  ,\n",
       "        6.670298  ,  9.190048  ,  4.912245  ,  8.04585   ,  8.094171  ,\n",
       "        7.2767353 ,  9.650578  ,  7.669643  ,  9.478795  ,  6.8473945 ,\n",
       "        6.680216  ,  5.898653  ,  8.648883  ,  8.55024   ,  8.348927  ,\n",
       "        6.889563  ,  6.4438505 ,  7.476125  ,  8.720111  ,  5.433818  ,\n",
       "        6.8883224 ,  7.564696  ,  7.343645  ,  5.217098  ,  9.980471  ,\n",
       "        4.568223  ,  6.6743846 ,  6.199225  ,  9.263207  ,  6.381901  ,\n",
       "        6.948387  ,  4.7744293 ,  6.230339  ,  7.669643  ,  6.7843313 ,\n",
       "        5.8430467 ,  7.027041  ,  7.0134597 ,  7.0604963 ,  2.5672622 ,\n",
       "        7.5243406 ,  6.0588655 ,  8.494335  ,  3.3909357 ,  9.112767  ,\n",
       "        6.814888  ,  6.5511975 ,  9.187808  ,  9.132317  ,  1.4261029 ,\n",
       "        8.471624  ,  6.8834686 ,  7.1472535 ,  7.4862165 ,  6.6158767 ,\n",
       "        6.1770124 ,  2.6510909 , 10.328784  ,  5.388395  ,  5.3803887 ,\n",
       "        9.696822  ,  4.7265916 ,  8.021019  ,  4.6875854 ,  9.9908285 ,\n",
       "        9.859698  ,  4.186665  ,  6.2217793 ,  8.326963  ,  9.480568  ,\n",
       "        4.700838  ,  8.34146   ,  5.153616  , 10.136195  ,  6.761341  ,\n",
       "        3.36218   ,  5.1469007 ,  7.9008517 ,  5.0954638 ,  6.4552503 ,\n",
       "        9.035259  ,  8.310193  ,  7.685512  ,  8.499859  ,  6.323549  ,\n",
       "       10.2709875 ,  8.066211  ,  7.9137807 , 10.733284  ,  7.1759405 ,\n",
       "        7.8057246 ,  4.57475   ,  5.441755  ,  5.968339  ,  5.9514165 ,\n",
       "        7.867064  ,  5.8479686 , 10.001556  ,  9.860692  ,  9.116529  ,\n",
       "       10.442127  ,  7.363302  ,  8.311138  ,  8.537296  ,  8.427245  ,\n",
       "        9.978386  ,  6.852563  ,  9.293091  ,  7.4607058 ,  6.4114585 ,\n",
       "        7.8765626 ,  7.9918303 ,  8.681055  ,  4.4359245 ,  7.231929  ,\n",
       "        4.8536024 ,  8.801117  ,  5.6136827 ,  5.8356256 ,  8.19372   ,\n",
       "        4.139093  ,  4.566075  ,  7.515446  ,  5.594099  ,  8.672012  ,\n",
       "        7.986015  ,  8.130889  ,  5.72487   ,  4.9862175 ,  5.5215874 ,\n",
       "       10.078226  ,  9.600758  ,  4.155555  ,  7.095648  ,  5.5748625 ,\n",
       "        4.268584  ,  7.5904555 ,  4.709546  ,  2.6584947 ,  8.346432  ,\n",
       "        7.058452  ,  8.185454  ,  3.0482128 ,  2.5430415 ,  4.155555  ,\n",
       "        5.529405  ,  6.8371706 ,  7.4431133 ,  7.5784163 , 10.252343  ,\n",
       "        6.7296925 ,  4.770618  ,  8.46553   ,  8.19172   ,  9.498022  ,\n",
       "        9.81102   , 12.958645  ,  8.707106  ,  9.15702   ,  7.87887   ,\n",
       "        9.924747  ,  7.364656  ,  6.6618443 ,  7.089914  ,  5.042324  ,\n",
       "        8.457998  ,  7.1091857 ,  6.2768154 ,  4.455806  ,  7.681182  ,\n",
       "        8.599483  ,  8.37343   ,  5.979633  ,  7.1112194 ,  4.8444605 ,\n",
       "        9.112884  ,  5.2463255 ,  6.360529  ,  6.8102446 ,  7.16526   ,\n",
       "        8.895864  ,  7.5976963 ,  2.8658304 ,  4.4359245 ,  9.845833  ,\n",
       "        9.794825  ,  5.058506  ,  8.581319  ,  7.436022  ,  9.142954  ,\n",
       "        8.457998  ,  6.9954605 ,  5.845152  ,  6.345518  ,  8.409766  ,\n",
       "        7.9565735 ,  4.8819594 ,  7.5122457 ,  9.987082  ,  7.7847424 ,\n",
       "        6.1211987 ,  8.40044   ,  6.4057546 ,  4.570863  ,  6.115298  ,\n",
       "        4.8984165 ,  5.9720225 ,  6.168968  ,  4.9967484 ,  5.4916744 ,\n",
       "        5.1423845 , 10.16294   ,  7.1955175 ,  5.075027  ,  5.9374275 ,\n",
       "        8.801054  ,  4.6061897 ,  5.5514355 ,  5.427235  ,  7.0698676 ,\n",
       "        4.66816   ,  9.426215  ,  7.8277717 ,  9.144687  ,  8.376691  ,\n",
       "        4.6773934 ,  6.2112193 ,  9.042137  ,  7.9718604 ,  5.0796604 ,\n",
       "        6.0060205 ,  6.1415205 ,  3.278053  ,  7.584787  , 10.94628   ,\n",
       "        5.547899  ,  5.210744  ,  3.174177  ,  6.957583  ,  8.849439  ,\n",
       "        8.146186  ,  6.341562  , 13.673981  ,  6.5591745 ,  7.2757416 ,\n",
       "        9.211454  ,  6.9219775 ,  6.2050853 ,  6.5670247 ,  6.5405083 ,\n",
       "        6.1125007 ,  6.180845  ,  6.6518893 ,  7.5132985 ,  5.5183897 ,\n",
       "        6.734387  ,  7.2214794 , 10.688322  ,  8.364341  ,  7.0876617 ,\n",
       "        2.2251108 ,  8.077043  ,  4.172401  ,  8.417252  ,  8.991541  ,\n",
       "        8.679923  ,  8.04895   ,  7.4512143 ,  4.7091765 , 10.752523  ,\n",
       "        5.722971  ,  6.625044  , 13.160009  ,  5.527677  ,  7.8253393 ,\n",
       "        4.513734  , 11.003044  ,  8.13027   ,  5.5791936 ,  6.174417  ,\n",
       "        4.984973  ,  6.109534  ,  4.664989  ,  6.980359  ,  5.650841  ,\n",
       "        5.640781  ,  6.880627  ,  5.6278152 ,  5.6270027 ,  7.1992106 ,\n",
       "        6.108997  ,  9.1269865 ,  5.6338677 ,  4.519306  ,  8.049707  ,\n",
       "        6.4242992 ,  5.007794  ,  8.346432  ,  4.4351134 , 11.007377  ,\n",
       "        7.2565975 ,  6.5857425 ,  4.365655  ,  9.553807  ,  8.044098  ,\n",
       "        5.6473413 ,  7.481042  ,  5.914545  ,  8.806629  ,  4.6073766 ,\n",
       "        7.564696  ,  4.340286  ,  4.5143876 ,  5.7922206 ,  9.305197  ,\n",
       "        6.0286484 ,  6.5782886 ,  6.1678667 ,  1.5982689 , 10.860847  ,\n",
       "        8.1346445 ,  7.327572  ,  4.7539086 , 11.3631315 ,  6.8164043 ,\n",
       "        9.821519  ,  5.393819  ,  5.084353  ,  7.1798167 , 10.832344  ,\n",
       "       10.1956625 ,  6.410497  ,  5.8436003 ,  7.464305  ,  2.019875  ,\n",
       "        2.9437633 , 10.073599  ,  6.0848265 ,  7.3241777 ,  7.4650836 ],\n",
       "      dtype=float32)"
      ]
     },
     "execution_count": 32,
     "metadata": {},
     "output_type": "execute_result"
    }
   ],
   "source": [
    "y_pred = xgb.predict(X_test)\n",
    "y_pred"
   ]
  },
  {
   "cell_type": "code",
   "execution_count": 33,
   "metadata": {},
   "outputs": [
    {
     "data": {
      "text/plain": [
       "685"
      ]
     },
     "execution_count": 33,
     "metadata": {},
     "output_type": "execute_result"
    }
   ],
   "source": [
    "len(y_pred)"
   ]
  },
  {
   "cell_type": "code",
   "execution_count": 34,
   "metadata": {},
   "outputs": [
    {
     "name": "stdout",
     "output_type": "stream",
     "text": [
      "Accuracy: 99.92\n"
     ]
    }
   ],
   "source": [
    "# Calculating the accuracy\n",
    "print(\"Accuracy:\",round(xgb.score(X_train, Y_train)*100,2))"
   ]
  },
  {
   "cell_type": "markdown",
   "metadata": {},
   "source": [
    "**Random Forest**"
   ]
  },
  {
   "cell_type": "code",
   "execution_count": 55,
   "metadata": {},
   "outputs": [],
   "source": [
    "from sklearn.ensemble import RandomForestRegressor"
   ]
  },
  {
   "cell_type": "code",
   "execution_count": 56,
   "metadata": {},
   "outputs": [
    {
     "data": {
      "text/plain": [
       "RandomForestRegressor(max_depth=5)"
      ]
     },
     "execution_count": 56,
     "metadata": {},
     "output_type": "execute_result"
    }
   ],
   "source": [
    "RF = RandomForestRegressor(n_estimators=100, max_depth=5)\n",
    "RF.fit(X_train,Y_train)"
   ]
  },
  {
   "cell_type": "code",
   "execution_count": 57,
   "metadata": {},
   "outputs": [
    {
     "data": {
      "text/plain": [
       "array([ 9.83256732, 11.54062797,  9.83256732,  8.32786473,  8.32786473,\n",
       "        4.49120011,  3.79512949,  8.32786473,  8.34193216,  9.08700059,\n",
       "        4.36097781,  5.38356134,  8.32786473,  4.01998997,  4.63528433,\n",
       "        6.15019351,  6.43574314,  4.23876685,  9.95491865,  6.11952293,\n",
       "        4.8804414 ,  4.6739016 ,  6.02057957,  7.20364685,  5.70137788,\n",
       "        6.15587284,  7.5084034 ,  8.32786473,  8.32786473,  8.31768536,\n",
       "        8.32786473,  5.61644599,  9.10106801,  8.32786473,  4.62471043,\n",
       "        9.57206848, 10.93189393, 11.27297404,  6.10709114,  6.56145627,\n",
       "        7.78053574,  7.34993696,  6.16417195,  6.2060623 ,  5.70137788,\n",
       "        4.8397198 ,  4.98890397,  5.70137788,  6.15019351,  4.94279534,\n",
       "        1.60785029,  6.17213632,  6.44152528, 13.57558961,  8.003371  ,\n",
       "        6.43790289,  9.83256732,  8.34193216,  8.32786473,  6.64896276,\n",
       "        7.658895  , 11.24162632,  6.2060623 ,  8.34193216,  6.71132568,\n",
       "        5.89430147,  6.74930679,  4.80856919,  5.37804626,  8.32786473,\n",
       "        6.27877598,  4.23876685,  3.85589412,  7.8799835 ,  6.74930679,\n",
       "        4.34715288,  6.15019351,  8.34193216, 10.93189393,  6.2060623 ,\n",
       "        7.3214809 ,  4.98890397,  6.18974769,  5.70137788,  1.57912406,\n",
       "        6.47307668,  7.3848688 , 11.24162632,  5.04756448,  6.261252  ,\n",
       "        9.83256732,  9.11787037,  7.46111258,  5.87232845,  6.64896276,\n",
       "        6.20648605,  8.32786473,  8.35873451,  6.74930679,  5.70137788,\n",
       "       10.93189393,  6.17213632,  5.55338987,  8.32786473,  8.32786473,\n",
       "        8.32786473,  7.49797221,  3.31866011,  9.83256732,  4.98890397,\n",
       "        4.03608639,  7.06877037,  6.15019351,  4.01272133,  7.13638355,\n",
       "        9.83256732,  5.56534876,  8.34193216,  4.54509559,  6.56145627,\n",
       "        6.11952293,  4.69902694,  9.83256732,  4.47288373,  8.34193216,\n",
       "        8.32786473,  4.63465494,  8.34193216,  9.57206848,  6.05730133,\n",
       "        6.95962124,  5.77388252,  8.34193216,  8.00326959,  1.24688643,\n",
       "        6.11952293,  7.20364685,  8.31768536,  7.73439606,  4.8804414 ,\n",
       "        8.32786473,  5.37474458,  9.73696599,  4.89856754,  8.32786473,\n",
       "        6.71798892,  5.64159543,  7.30699234,  6.27877598,  7.68539144,\n",
       "        9.83256732,  8.32786473,  4.77410143,  7.49797221,  8.32786473,\n",
       "       10.93189393,  6.43790289,  4.7002762 ,  6.66893212,  6.64896276,\n",
       "        8.00095146,  9.83256732,  6.9909668 ,  7.83519879,  7.18151719,\n",
       "        8.31768536,  7.20364685,  8.32786473,  5.47002177,  7.50883548,\n",
       "        7.89774164,  6.4685823 ,  5.56534876,  9.83256732,  6.11952293,\n",
       "        5.22656935,  7.4981436 ,  5.70137788,  5.89317265,  6.39415742,\n",
       "        5.56534876,  0.87564191,  9.3498986 ,  7.49845983,  7.46111258,\n",
       "        0.87564191,  4.73582679,  9.57206848,  6.49615647,  6.45318091,\n",
       "        5.70137788,  8.34193216,  4.98890397,  4.63528433,  9.83256732,\n",
       "        7.8115562 ,  9.8178434 ,  6.8817623 ,  5.60424708,  7.50883548,\n",
       "        7.0629294 ,  2.69884511,  7.50883548,  1.75307643,  7.04935407,\n",
       "        4.43606547,  7.88972491,  7.20364685,  8.32786473,  8.01128632,\n",
       "        8.32786473, 13.55878725,  5.64159543,  6.34984233,  9.83256732,\n",
       "        5.70137788,  6.05730133,  5.64159543,  9.83256732,  7.50883548,\n",
       "        5.62346081,  5.55851624,  8.00095146, 10.93189393, 11.25842867,\n",
       "        6.3041081 ,  5.6044401 ,  5.53848659,  9.8178434 ,  5.70137788,\n",
       "        5.30070175,  9.55526613,  8.32786473,  5.53848659,  6.71798892,\n",
       "        6.15019351,  8.003371  ,  8.32786473,  4.18648651,  4.8804414 ,\n",
       "        4.53806165,  5.56534876,  7.05997414,  7.92101855, 10.93189393,\n",
       "        7.11745482,  5.55042091,  8.32786473,  5.56534876,  8.34193216,\n",
       "        7.70477238,  9.11787037,  4.81118774,  5.29974966,  6.71798892,\n",
       "        4.54164761,  7.26714005,  8.34193216,  8.32786473,  8.32786473,\n",
       "        9.83256732,  9.83256732,  6.2060623 ,  6.11952293,  5.47002177,\n",
       "        7.50883548,  4.80420791,  6.17609587,  5.43117116,  6.71798892,\n",
       "        8.34193216,  6.71798892, 10.91509157,  1.92161191,  8.32786473,\n",
       "        9.83256732,  4.98871138,  6.71798892,  6.66893212,  7.4886043 ,\n",
       "        5.55851624,  8.30035026,  5.56802736,  4.54509559,  9.08700059,\n",
       "        4.53836917,  6.11952293,  5.54169466,  8.32786473,  7.83519879,\n",
       "        5.53578342,  6.11952293,  5.6002249 ,  1.24688643,  8.32786473,\n",
       "        7.13335784,  8.34193216,  7.81253934,  7.82219926,  6.57172116,\n",
       "        5.70137788,  6.11952293,  4.54509559,  6.47307668,  9.73696599,\n",
       "        9.08700059,  4.8804414 ,  4.47686559,  7.50113821,  6.08965671,\n",
       "        6.26070904,  7.37609758,  5.57273307,  8.01128632,  9.83256732,\n",
       "        8.32786473,  6.15019351,  4.8986826 ,  5.86983924,  6.19370725,\n",
       "        6.11952293,  6.71798892,  5.10075336,  7.49797221,  4.98890397,\n",
       "        3.98177451,  6.56135486,  6.11952293, 10.57488568,  7.5167508 ,\n",
       "        6.02057957,  4.83312194,  8.34193216,  6.54847247,  8.32786473,\n",
       "        7.84794074,  8.34193216,  6.71798892,  7.59204402,  4.63528433,\n",
       "        7.06414661,  5.64159543,  8.34193216,  7.12257212,  9.83256732,\n",
       "        7.1032046 ,  7.88972491,  5.55851624,  7.60585885,  7.89774164,\n",
       "        7.48759656,  9.11787037,  8.32786473,  8.40518609,  6.47578427,\n",
       "        6.71798892,  6.05730133,  7.97025126,  8.34193216,  8.32786473,\n",
       "        8.32786473,  6.2060623 ,  8.33175279,  8.40518609,  6.4213296 ,\n",
       "        6.53936766,  7.38567027,  7.4992613 ,  5.5242214 ,  8.35873451,\n",
       "        4.53319377,  6.71798892,  6.15019351,  8.34193216,  6.26521156,\n",
       "        7.41600483,  4.98890397,  6.18974769,  8.32786473,  6.74930679,\n",
       "        6.29704919,  8.32786473,  8.31768536,  8.32786473,  3.25314825,\n",
       "        8.32786473,  6.66893212,  7.51136131,  3.77677356,  8.34193216,\n",
       "        6.54822221,  6.63979083,  8.34193216,  9.8178434 ,  1.60319881,\n",
       "        8.34193216,  6.71798892,  6.36755607,  8.32786473,  6.56145627,\n",
       "        6.11952293,  3.78732896,  9.83256732,  5.69510547,  5.78693431,\n",
       "        9.08700059,  5.29974966,  7.43114528,  4.53836917,  9.83256732,\n",
       "        9.11787037,  4.01272133,  6.13441119,  8.32786473,  9.08700059,\n",
       "        5.2308971 ,  8.32786473,  5.56534876,  9.83256732,  6.71798892,\n",
       "        4.51978234,  4.85440671,  7.4932229 ,  4.83312194,  6.17213632,\n",
       "        9.8178434 ,  8.34193216,  7.20364685,  9.73696599,  6.65076017,\n",
       "        9.83256732,  7.26255113,  8.32786473,  9.83256732,  6.19370725,\n",
       "        7.50883548,  4.68162866,  5.70137788,  6.47307668,  6.11952293,\n",
       "        7.33433818,  6.64896276,  9.83256732,  9.83256732,  8.34193216,\n",
       "        9.55526613,  6.84472195,  8.32786473,  8.32786473,  7.50113821,\n",
       "        9.83256732,  7.3979238 ,  8.35873451,  7.52327869,  6.38821806,\n",
       "        7.92101855,  8.32786473,  8.34193216,  4.54509559,  8.32786473,\n",
       "        5.47002177,  8.34193216,  5.70137788,  6.17213632,  7.68999736,\n",
       "        4.54530945,  4.85440671,  7.4932229 ,  5.70137788,  8.00095146,\n",
       "        8.32786473,  8.34193216,  4.96474531,  4.71363689,  5.62346081,\n",
       "        9.83256732,  9.11787037,  4.2311465 ,  6.18974769,  5.70137788,\n",
       "        5.14703324,  8.32786473,  5.17762523,  4.82264061,  8.32786473,\n",
       "        6.54457345,  8.32786473,  3.63225428,  4.72449539,  4.2311465 ,\n",
       "        5.57600812,  6.75326635,  8.32786473,  7.91068369,  9.55526613,\n",
       "        7.19964613,  5.11443361,  7.82266487,  8.32786473,  9.08700059,\n",
       "        9.83256732,  9.75289346,  9.71541029,  9.8178434 ,  7.70477238,\n",
       "        9.83256732,  7.38567027,  6.71798892,  7.4705588 ,  5.56534876,\n",
       "        8.32786473,  8.32786473,  6.11952293,  4.53806165,  8.32786473,\n",
       "        8.32786473,  7.67997425,  8.30035026,  7.41936943,  5.29974966,\n",
       "        9.8178434 ,  4.78963382,  6.53665814,  6.18974769,  8.32786473,\n",
       "        7.35707611,  8.32786473,  2.69884511,  4.54509559,  9.83256732,\n",
       "        9.57206848,  5.95835797,  8.32786473,  8.32786473,  8.34193216,\n",
       "        8.32786473,  8.32786473,  6.47297526,  6.2060623 ,  8.32786473,\n",
       "        7.97122683,  4.74971846,  8.32786473,  8.00326959,  7.22361621,\n",
       "        6.18974769,  7.80521731,  6.10709114,  6.07718717,  8.30035026,\n",
       "        4.84233185,  6.64896276,  6.15019351,  4.68923815,  4.91977653,\n",
       "        6.26216322,  9.83256732,  6.50945894,  4.8804414 ,  6.05730133,\n",
       "        8.32786473,  4.5238013 ,  5.70137788,  5.5689933 ,  8.32786473,\n",
       "        6.16194438,  9.8178434 ,  7.0629294 ,  9.8178434 ,  8.34193216,\n",
       "        4.53836917,  6.11952293,  8.32786473,  7.91300182,  5.56534876,\n",
       "        5.50688409,  6.2060623 ,  3.79715813,  7.59204402, 10.93189393,\n",
       "        5.70137788,  5.74194755,  3.60222434,  6.05303632,  8.003371  ,\n",
       "        8.32786473,  6.39849971, 10.04737459,  6.17213632,  7.07831076,\n",
       "        7.54493466,  8.31768536,  6.2060623 ,  6.08965671,  7.63106183,\n",
       "        6.15019351,  7.02695581,  6.71798892,  7.06518219,  5.62346081,\n",
       "        8.32786473,  7.0629294 , 10.55808332,  9.71541029,  7.10716114,\n",
       "        2.75945592,  8.32786473,  4.26971498,  7.99303614,  8.32786473,\n",
       "        9.73696599,  7.89774164,  8.32786473,  4.22762953,  9.83256732,\n",
       "        5.93291638,  7.05997414, 10.04737459,  5.62346081,  8.32786473,\n",
       "        6.15206152, 10.55808332,  8.38718471,  5.70137788,  6.15019351,\n",
       "        6.16417195,  6.15019351,  4.68162866,  7.28158608,  7.4161833 ,\n",
       "        5.87232845,  6.74930679,  5.00756657,  5.60760921,  6.74930679,\n",
       "        6.11952293,  8.34193216,  6.05730133,  4.31500607,  7.8799835 ,\n",
       "        6.10709114,  4.98890397,  8.32786473,  4.24018066, 10.93189393,\n",
       "        6.74930679,  8.32786473,  4.63808564,  9.08700059,  8.32786473,\n",
       "        5.00756657,  7.01015395,  6.47307668,  8.32786473,  4.0858007 ,\n",
       "        7.38567027,  4.92185796,  4.25554089,  6.4681096 ,  9.83256732,\n",
       "        6.15019351,  6.71798892,  6.15019351,  1.64618808, 10.91509157,\n",
       "        8.32786473,  7.49845983,  4.74971846, 11.27297404,  7.33543213,\n",
       "        9.57206848,  5.70137788,  4.85440671,  6.74930679,  9.95491865,\n",
       "        9.83256732,  4.25762774,  6.70453882,  7.50883548,  2.85498365,\n",
       "        3.63225428,  7.41517255,  6.15019351,  8.32786473,  8.32786473])"
      ]
     },
     "execution_count": 57,
     "metadata": {},
     "output_type": "execute_result"
    }
   ],
   "source": [
    "# Making Predictions\n",
    "y2_pred = RF.predict(X_test)\n",
    "y2_pred"
   ]
  },
  {
   "cell_type": "code",
   "execution_count": 58,
   "metadata": {},
   "outputs": [
    {
     "name": "stdout",
     "output_type": "stream",
     "text": [
      "Accuracy: 88.31\n"
     ]
    }
   ],
   "source": [
    "# Calculating the accuracy\n",
    "print(\"Accuracy:\",round(RF.score(X_train, Y_train)*100,2))"
   ]
  },
  {
   "cell_type": "code",
   "execution_count": 35,
   "metadata": {},
   "outputs": [],
   "source": [
    "f1 = 'model.pkl'\n",
    "pickle.dump(xgb,open(f1, 'wb'))"
   ]
  },
  {
   "cell_type": "code",
   "execution_count": 59,
   "metadata": {},
   "outputs": [],
   "source": [
    "df_test = pd.read_csv('https://raw.githubusercontent.com/MathewJohn1986/Team-8-Predict/main/df-test_set.csv')"
   ]
  },
  {
   "cell_type": "code",
   "execution_count": 62,
   "metadata": {},
   "outputs": [],
   "source": [
    "submission = pd.DataFrame({\n",
    "    \"Index\": df_test[\"Index\"],\n",
    "    \"avg_price_per_kg\": y_pred\n",
    "})\n",
    "submission.to_csv('submission.csv', index=False)"
   ]
  },
  {
   "cell_type": "code",
   "execution_count": 63,
   "metadata": {},
   "outputs": [
    {
     "data": {
      "text/html": [
       "<div>\n",
       "<style scoped>\n",
       "    .dataframe tbody tr th:only-of-type {\n",
       "        vertical-align: middle;\n",
       "    }\n",
       "\n",
       "    .dataframe tbody tr th {\n",
       "        vertical-align: top;\n",
       "    }\n",
       "\n",
       "    .dataframe thead th {\n",
       "        text-align: right;\n",
       "    }\n",
       "</style>\n",
       "<table border=\"1\" class=\"dataframe\">\n",
       "  <thead>\n",
       "    <tr style=\"text-align: right;\">\n",
       "      <th></th>\n",
       "      <th>Index</th>\n",
       "      <th>avg_price_per_kg</th>\n",
       "    </tr>\n",
       "  </thead>\n",
       "  <tbody>\n",
       "    <tr>\n",
       "      <th>0</th>\n",
       "      <td>1</td>\n",
       "      <td>10.712700</td>\n",
       "    </tr>\n",
       "    <tr>\n",
       "      <th>1</th>\n",
       "      <td>2</td>\n",
       "      <td>12.213106</td>\n",
       "    </tr>\n",
       "    <tr>\n",
       "      <th>2</th>\n",
       "      <td>3</td>\n",
       "      <td>10.005927</td>\n",
       "    </tr>\n",
       "    <tr>\n",
       "      <th>3</th>\n",
       "      <td>4</td>\n",
       "      <td>8.683472</td>\n",
       "    </tr>\n",
       "    <tr>\n",
       "      <th>4</th>\n",
       "      <td>5</td>\n",
       "      <td>8.145393</td>\n",
       "    </tr>\n",
       "    <tr>\n",
       "      <th>...</th>\n",
       "      <td>...</td>\n",
       "      <td>...</td>\n",
       "    </tr>\n",
       "    <tr>\n",
       "      <th>680</th>\n",
       "      <td>681</td>\n",
       "      <td>2.943763</td>\n",
       "    </tr>\n",
       "    <tr>\n",
       "      <th>681</th>\n",
       "      <td>682</td>\n",
       "      <td>10.073599</td>\n",
       "    </tr>\n",
       "    <tr>\n",
       "      <th>682</th>\n",
       "      <td>683</td>\n",
       "      <td>6.084826</td>\n",
       "    </tr>\n",
       "    <tr>\n",
       "      <th>683</th>\n",
       "      <td>684</td>\n",
       "      <td>7.324178</td>\n",
       "    </tr>\n",
       "    <tr>\n",
       "      <th>684</th>\n",
       "      <td>685</td>\n",
       "      <td>7.465084</td>\n",
       "    </tr>\n",
       "  </tbody>\n",
       "</table>\n",
       "<p>685 rows × 2 columns</p>\n",
       "</div>"
      ],
      "text/plain": [
       "     Index  avg_price_per_kg\n",
       "0        1         10.712700\n",
       "1        2         12.213106\n",
       "2        3         10.005927\n",
       "3        4          8.683472\n",
       "4        5          8.145393\n",
       "..     ...               ...\n",
       "680    681          2.943763\n",
       "681    682         10.073599\n",
       "682    683          6.084826\n",
       "683    684          7.324178\n",
       "684    685          7.465084\n",
       "\n",
       "[685 rows x 2 columns]"
      ]
     },
     "execution_count": 63,
     "metadata": {},
     "output_type": "execute_result"
    }
   ],
   "source": [
    "submission"
   ]
  },
  {
   "cell_type": "code",
   "execution_count": null,
   "metadata": {},
   "outputs": [],
   "source": []
  }
 ],
 "metadata": {
  "kernelspec": {
   "display_name": "Python 3",
   "language": "python",
   "name": "python3"
  },
  "language_info": {
   "codemirror_mode": {
    "name": "ipython",
    "version": 3
   },
   "file_extension": ".py",
   "mimetype": "text/x-python",
   "name": "python",
   "nbconvert_exporter": "python",
   "pygments_lexer": "ipython3",
   "version": "3.8.5"
  }
 },
 "nbformat": 4,
 "nbformat_minor": 4
}
